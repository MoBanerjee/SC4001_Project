{
  "nbformat": 4,
  "nbformat_minor": 0,
  "metadata": {
    "colab": {
      "provenance": [],
      "gpuType": "T4",
      "authorship_tag": "ABX9TyNMQPJizrBubk42v4kIbTS6",
      "include_colab_link": true
    },
    "kernelspec": {
      "name": "python3",
      "display_name": "Python 3"
    },
    "language_info": {
      "name": "python"
    },
    "accelerator": "GPU"
  },
  "cells": [
    {
      "cell_type": "markdown",
      "metadata": {
        "id": "view-in-github",
        "colab_type": "text"
      },
      "source": [
        "<a href=\"https://colab.research.google.com/github/MoBanerjee/SC4001_Project/blob/main/VGG16_FullFrozen.ipynb\" target=\"_parent\"><img src=\"https://colab.research.google.com/assets/colab-badge.svg\" alt=\"Open In Colab\"/></a>"
      ]
    },
    {
      "cell_type": "code",
      "execution_count": null,
      "metadata": {
        "id": "Klfm-Pe9djfm"
      },
      "outputs": [],
      "source": [
        "import torch\n",
        "import torchvision\n",
        "import torchvision.transforms as transforms\n",
        "from torch.utils.data import DataLoader, random_split\n",
        "import torch.nn as nn\n",
        "import torch.optim as optim"
      ]
    },
    {
      "cell_type": "code",
      "source": [
        "# I set up a transformation pipeline to resize the image to 224x224, convert it to a tensor, and normalize using ImageNet mean and std\n",
        "\n",
        "transform = transforms.Compose([\n",
        "    transforms.Resize((224, 224)),\n",
        "    transforms.ToTensor(),\n",
        "    transforms.Normalize(mean=[0.485, 0.456, 0.406], std=[0.229, 0.224, 0.225]),\n",
        "])"
      ],
      "metadata": {
        "id": "c2YNmDYLdpXS"
      },
      "execution_count": null,
      "outputs": []
    },
    {
      "cell_type": "code",
      "source": [
        "# Loading the Flowers102 dataset for training, validation, and testing, applying the defined transformations and downloading\n",
        "\n",
        "train_data = torchvision.datasets.Flowers102(root='./data', split='train', transform=transform, download=True)\n",
        "val_data = torchvision.datasets.Flowers102(root='./data', split='val', transform=transform, download=True)\n",
        "test_data = torchvision.datasets.Flowers102(root='./data', split='test', transform=transform, download=True)"
      ],
      "metadata": {
        "colab": {
          "base_uri": "https://localhost:8080/"
        },
        "id": "mtZPZDdfdr8Q",
        "outputId": "e16b68bc-efbc-4fb6-a93b-a488c06afefc"
      },
      "execution_count": null,
      "outputs": [
        {
          "output_type": "stream",
          "name": "stdout",
          "text": [
            "Downloading https://thor.robots.ox.ac.uk/flowers/102/102flowers.tgz to data/flowers-102/102flowers.tgz\n"
          ]
        },
        {
          "output_type": "stream",
          "name": "stderr",
          "text": [
            "100%|██████████| 345M/345M [00:13<00:00, 25.2MB/s]\n"
          ]
        },
        {
          "output_type": "stream",
          "name": "stdout",
          "text": [
            "Extracting data/flowers-102/102flowers.tgz to data/flowers-102\n",
            "Downloading https://thor.robots.ox.ac.uk/flowers/102/imagelabels.mat to data/flowers-102/imagelabels.mat\n"
          ]
        },
        {
          "output_type": "stream",
          "name": "stderr",
          "text": [
            "100%|██████████| 502/502 [00:00<00:00, 1.23MB/s]\n"
          ]
        },
        {
          "output_type": "stream",
          "name": "stdout",
          "text": [
            "Downloading https://thor.robots.ox.ac.uk/flowers/102/setid.mat to data/flowers-102/setid.mat\n"
          ]
        },
        {
          "output_type": "stream",
          "name": "stderr",
          "text": [
            "100%|██████████| 15.0k/15.0k [00:00<00:00, 36.3MB/s]\n"
          ]
        }
      ]
    },
    {
      "cell_type": "code",
      "source": [
        "# Creating data loaders for training, validation, and testing with a batch size of 32, shuffling only the training data.\n",
        "\n",
        "train_loader = DataLoader(train_data, batch_size=32, shuffle=True)\n",
        "val_loader = DataLoader(val_data, batch_size=32, shuffle=False)\n",
        "test_loader = DataLoader(test_data, batch_size=32, shuffle=False)"
      ],
      "metadata": {
        "id": "w5An5KeXduU5"
      },
      "execution_count": null,
      "outputs": []
    },
    {
      "cell_type": "code",
      "source": [
        "# Loading the pretrained VGG16 model and freezing all its parameters to prevent updates during training,\n",
        "# ensuring only the custom classifier layers will be trained, leveraging the pretrained features.\n",
        "\n",
        "model = torchvision.models.vgg16(pretrained=True)\n",
        "for param in model.parameters():\n",
        "    param.requires_grad = False"
      ],
      "metadata": {
        "colab": {
          "base_uri": "https://localhost:8080/"
        },
        "id": "xnRuugijdxF8",
        "outputId": "ba7e1040-1ba0-484e-cc85-b9d12a850bca"
      },
      "execution_count": null,
      "outputs": [
        {
          "output_type": "stream",
          "name": "stderr",
          "text": [
            "/usr/local/lib/python3.10/dist-packages/torchvision/models/_utils.py:208: UserWarning: The parameter 'pretrained' is deprecated since 0.13 and may be removed in the future, please use 'weights' instead.\n",
            "  warnings.warn(\n",
            "/usr/local/lib/python3.10/dist-packages/torchvision/models/_utils.py:223: UserWarning: Arguments other than a weight enum or `None` for 'weights' are deprecated since 0.13 and may be removed in the future. The current behavior is equivalent to passing `weights=VGG16_Weights.IMAGENET1K_V1`. You can also use `weights=VGG16_Weights.DEFAULT` to get the most up-to-date weights.\n",
            "  warnings.warn(msg)\n",
            "Downloading: \"https://download.pytorch.org/models/vgg16-397923af.pth\" to /root/.cache/torch/hub/checkpoints/vgg16-397923af.pth\n",
            "100%|██████████| 528M/528M [00:03<00:00, 158MB/s]\n"
          ]
        }
      ]
    },
    {
      "cell_type": "code",
      "source": [
        "# Then, I replace the final layer in the VGG16 classifier with a new linear layer to output 102 classes for the Flowers102 dataset.\n",
        "# I enable training only for the parameters in this new layer, allowing it to learn to classify the dataset while other layers remain frozen.\n",
        "\n",
        "model.classifier[6] = nn.Linear(in_features=4096, out_features=102)\n",
        "for param in model.classifier[6].parameters():\n",
        "    param.requires_grad = True"
      ],
      "metadata": {
        "id": "eQSPDGbVeAZC"
      },
      "execution_count": null,
      "outputs": []
    },
    {
      "cell_type": "code",
      "source": [
        "# Setting the device to GPU if available; otherwise, default to CPU, and then transfer the model to the selected device for optimized processing.\n",
        "\n",
        "device = torch.device(\"cuda\" if torch.cuda.is_available() else \"cpu\")\n",
        "model = model.to(device)"
      ],
      "metadata": {
        "id": "pcU0c3y5gXIh"
      },
      "execution_count": null,
      "outputs": []
    },
    {
      "cell_type": "code",
      "source": [
        "# Defining the loss function as cross-entropy for multi-class classification and setting up the Adam optimizer,\n",
        "# applying it only to trainable parameters in the model with a learning rate of 0.001.\n",
        "\n",
        "criterion = nn.CrossEntropyLoss()\n",
        "optimizer = optim.Adam(filter(lambda p: p.requires_grad, model.parameters()), lr=0.001)"
      ],
      "metadata": {
        "id": "QsyG59gkgQAu"
      },
      "execution_count": null,
      "outputs": []
    },
    {
      "cell_type": "code",
      "source": [
        "def train_model(model, dataloader, criterion, optimizer, device):\n",
        "    model.train()\n",
        "    running_loss = 0.0\n",
        "    correct = 0\n",
        "    total = 0\n",
        "    for inputs, labels in dataloader:\n",
        "        inputs, labels = inputs.to(device), labels.to(device)\n",
        "        optimizer.zero_grad()\n",
        "        outputs = model(inputs)\n",
        "        loss = criterion(outputs, labels)\n",
        "        loss.backward()\n",
        "        optimizer.step()\n",
        "        running_loss += loss.item()\n",
        "        _, predicted = torch.max(outputs, 1)\n",
        "        total += labels.size(0)\n",
        "        correct += (predicted == labels).sum().item()\n",
        "    return running_loss / len(dataloader), correct / total"
      ],
      "metadata": {
        "id": "LSPda9UPeCSk"
      },
      "execution_count": null,
      "outputs": []
    },
    {
      "cell_type": "code",
      "source": [
        "def validate_model(model, dataloader, criterion, device):\n",
        "    model.eval()\n",
        "    running_loss = 0.0\n",
        "    correct = 0\n",
        "    total = 0\n",
        "    with torch.no_grad():\n",
        "        for inputs, labels in dataloader:\n",
        "            inputs, labels = inputs.to(device), labels.to(device)\n",
        "            outputs = model(inputs)\n",
        "            loss = criterion(outputs, labels)\n",
        "            running_loss += loss.item()\n",
        "            _, predicted = torch.max(outputs, 1)\n",
        "            total += labels.size(0)\n",
        "            correct += (predicted == labels).sum().item()\n",
        "    return running_loss / len(dataloader), correct / total"
      ],
      "metadata": {
        "id": "xj3RsXLOeIiy"
      },
      "execution_count": null,
      "outputs": []
    },
    {
      "cell_type": "code",
      "source": [
        "def test_model(model, dataloader, device):\n",
        "    model.eval()\n",
        "    correct = 0\n",
        "    total = 0\n",
        "    with torch.no_grad():\n",
        "        for inputs, labels in dataloader:\n",
        "            inputs, labels = inputs.to(device), labels.to(device)\n",
        "            outputs = model(inputs)\n",
        "            _, predicted = torch.max(outputs, 1)\n",
        "            total += labels.size(0)\n",
        "            correct += (predicted == labels).sum().item()\n",
        "    return correct / total"
      ],
      "metadata": {
        "id": "0YiWmZlJeKt8"
      },
      "execution_count": null,
      "outputs": []
    },
    {
      "cell_type": "code",
      "source": [
        "num_epochs = 100\n",
        "best_val_acc = 0.0\n",
        "patience = 5\n",
        "counter = 0\n",
        "train_loss_history=[]\n",
        "train_acc_history=[]\n",
        "val_loss_history=[]\n",
        "val_acc_history=[]\n",
        "\n",
        "for epoch in range(num_epochs):\n",
        "    train_loss, train_acc = train_model(model, train_loader, criterion, optimizer, device)\n",
        "    val_loss, val_acc = validate_model(model, val_loader, criterion, device)\n",
        "    train_loss_history.append(train_loss)\n",
        "    train_acc_history.append(train_acc)\n",
        "    val_loss_history.append(val_loss)\n",
        "    val_acc_history.append(val_acc)\n",
        "    print(f\"Epoch [{epoch+1}/{num_epochs}], Train Loss: {train_loss:.4f}, Train Accuracy: {train_acc:.4f}, Validation Loss: {val_loss:.4f}, Validation Accuracy: {val_acc:.4f}\")\n",
        "\n",
        "    if val_acc > best_val_acc:\n",
        "        best_val_acc = val_acc\n",
        "        torch.save(model.state_dict(), 'Best_Vgg16_FullFrozen.pth')\n",
        "        counter = 0\n",
        "    else:\n",
        "        counter += 1\n",
        "\n",
        "    if counter >= patience:\n",
        "        print(f\"Early stopping at epoch {epoch+1}. No improvement in validation accuracy for {patience} consecutive epochs.\")\n",
        "        break"
      ],
      "metadata": {
        "colab": {
          "base_uri": "https://localhost:8080/"
        },
        "id": "QG66kA7DeNHT",
        "outputId": "5f4966b8-cf60-46f9-a1fe-e6e2f40bba9f"
      },
      "execution_count": null,
      "outputs": [
        {
          "output_type": "stream",
          "name": "stdout",
          "text": [
            "Epoch [1/100], Train Loss: 3.8883, Train Accuracy: 0.1863, Validation Loss: 2.2391, Validation Accuracy: 0.5784\n",
            "Epoch [2/100], Train Loss: 1.3680, Train Accuracy: 0.7284, Validation Loss: 1.5052, Validation Accuracy: 0.6853\n",
            "Epoch [3/100], Train Loss: 0.7842, Train Accuracy: 0.8627, Validation Loss: 1.2732, Validation Accuracy: 0.7167\n",
            "Epoch [4/100], Train Loss: 0.5445, Train Accuracy: 0.9049, Validation Loss: 1.1798, Validation Accuracy: 0.7137\n",
            "Epoch [5/100], Train Loss: 0.4134, Train Accuracy: 0.9343, Validation Loss: 1.0959, Validation Accuracy: 0.7314\n",
            "Epoch [6/100], Train Loss: 0.3019, Train Accuracy: 0.9569, Validation Loss: 1.0577, Validation Accuracy: 0.7402\n",
            "Epoch [7/100], Train Loss: 0.2473, Train Accuracy: 0.9716, Validation Loss: 1.0346, Validation Accuracy: 0.7441\n",
            "Epoch [8/100], Train Loss: 0.2067, Train Accuracy: 0.9745, Validation Loss: 1.0073, Validation Accuracy: 0.7588\n",
            "Epoch [9/100], Train Loss: 0.1790, Train Accuracy: 0.9755, Validation Loss: 0.9965, Validation Accuracy: 0.7539\n",
            "Epoch [10/100], Train Loss: 0.1474, Train Accuracy: 0.9833, Validation Loss: 0.9828, Validation Accuracy: 0.7500\n",
            "Epoch [11/100], Train Loss: 0.1232, Train Accuracy: 0.9931, Validation Loss: 0.9784, Validation Accuracy: 0.7441\n",
            "Epoch [12/100], Train Loss: 0.1237, Train Accuracy: 0.9902, Validation Loss: 0.9664, Validation Accuracy: 0.7500\n",
            "Epoch [13/100], Train Loss: 0.1083, Train Accuracy: 0.9922, Validation Loss: 0.9702, Validation Accuracy: 0.7480\n",
            "Early stopping at epoch 13. No improvement in validation accuracy for 5 consecutive epochs.\n"
          ]
        }
      ]
    },
    {
      "cell_type": "code",
      "source": [
        "import matplotlib.pyplot as plt\n",
        "epochs = range(1, len(train_loss_history) + 1)\n",
        "\n",
        "plt.figure(figsize=(10, 5))\n",
        "plt.subplot(2, 1, 1)\n",
        "plt.plot(epochs, train_loss_history, 'b-', label='Training Loss')\n",
        "plt.plot(epochs, val_loss_history, 'orange', label='Validation Loss')\n",
        "plt.xlabel('Epochs')\n",
        "plt.ylabel('Loss')\n",
        "plt.title('Training and Validation Loss History')\n",
        "plt.legend()\n",
        "plt.grid()\n",
        "\n",
        "\n",
        "plt.subplot(2, 1, 2)\n",
        "plt.plot(epochs, train_acc_history, 'b-', label='Training Accuracy')\n",
        "plt.plot(epochs, val_acc_history, 'orange', label='Validation Accuracy')\n",
        "plt.xlabel('Epochs')\n",
        "plt.ylabel('Accuracy')\n",
        "plt.title('Training and Validation Accuracy History')\n",
        "plt.legend()\n",
        "plt.grid()\n",
        "\n",
        "plt.tight_layout()\n",
        "plt.show()"
      ],
      "metadata": {
        "colab": {
          "base_uri": "https://localhost:8080/"
        },
        "id": "p0A-hXi0eVOc",
        "outputId": "3743d1ce-11ed-4c85-f001-367e693ce512"
      },
      "execution_count": null,
      "outputs": [
        {
          "output_type": "display_data",
          "data": {
            "text/plain": [
              "<Figure size 1000x500 with 2 Axes>"
            ],
            "image/png": "[encoded data removed]"
          },
          "metadata": {}
        }
      ]
    },
    {
      "cell_type": "code",
      "source": [
        "model.load_state_dict(torch.load('Best_Vgg16_FullFrozen.pth'))\n",
        "test_acc = test_model(model, test_loader, device)\n",
        "print(f\"Test Accuracy: {test_acc:.4f}\")"
      ],
      "metadata": {
        "colab": {
          "base_uri": "https://localhost:8080/"
        },
        "id": "qvZEYg8ieY4A",
        "outputId": "403858ea-7d2f-49fa-c8e7-c0992881284b"
      },
      "execution_count": null,
      "outputs": [
        {
          "output_type": "stream",
          "name": "stderr",
          "text": [
            "<ipython-input-14-7b741d4f7c0f>:1: FutureWarning: You are using `torch.load` with `weights_only=False` (the current default value), which uses the default pickle module implicitly. It is possible to construct malicious pickle data which will execute arbitrary code during unpickling (See https://github.com/pytorch/pytorch/blob/main/SECURITY.md#untrusted-models for more details). In a future release, the default value for `weights_only` will be flipped to `True`. This limits the functions that could be executed during unpickling. Arbitrary objects will no longer be allowed to be loaded via this mode unless they are explicitly allowlisted by the user via `torch.serialization.add_safe_globals`. We recommend you start setting `weights_only=True` for any use case where you don't have full control of the loaded file. Please open an issue on GitHub for any issues related to this experimental feature.\n",
            "  model.load_state_dict(torch.load('Best_Vgg16_FullFrozen.pth'))\n"
          ]
        },
        {
          "output_type": "stream",
          "name": "stdout",
          "text": [
            "Test Accuracy: 0.7222\n"
          ]
        }
      ]
    }
  ]
}