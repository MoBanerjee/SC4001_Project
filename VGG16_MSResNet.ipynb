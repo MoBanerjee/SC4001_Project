{
  "nbformat": 4,
  "nbformat_minor": 0,
  "metadata": {
    "colab": {
      "provenance": [],
      "gpuType": "T4",
      "authorship_tag": "ABX9TyPhqnhadsHaoBnh61nRwIzf",
      "include_colab_link": true
    },
    "kernelspec": {
      "name": "python3",
      "display_name": "Python 3"
    },
    "language_info": {
      "name": "python"
    },
    "accelerator": "GPU"
  },
  "cells": [
    {
      "cell_type": "markdown",
      "metadata": {
        "id": "view-in-github",
        "colab_type": "text"
      },
      "source": [
        "<a href=\"https://colab.research.google.com/github/MoBanerjee/SC4001_Project/blob/main/VGG16_MSResNet.ipynb\" target=\"_parent\"><img src=\"https://colab.research.google.com/assets/colab-badge.svg\" alt=\"Open In Colab\"/></a>"
      ]
    },
    {
      "cell_type": "code",
      "execution_count": 15,
      "metadata": {
        "id": "Klfm-Pe9djfm"
      },
      "outputs": [],
      "source": [
        "import torch\n",
        "import torchvision\n",
        "import torchvision.transforms as transforms\n",
        "from torch.utils.data import DataLoader, random_split\n",
        "import torch.nn as nn\n",
        "import torch.optim as optim"
      ]
    },
    {
      "cell_type": "code",
      "source": [
        "# I set up a transformation pipeline to resize the image to 224x224, convert it to a tensor, and normalize using ImageNet mean and std\n",
        "\n",
        "transform = transforms.Compose([\n",
        "    transforms.Resize((224, 224)),\n",
        "    transforms.ToTensor(),\n",
        "    transforms.Normalize(mean=[0.485, 0.456, 0.406], std=[0.229, 0.224, 0.225]),\n",
        "])"
      ],
      "metadata": {
        "id": "c2YNmDYLdpXS"
      },
      "execution_count": 16,
      "outputs": []
    },
    {
      "cell_type": "code",
      "source": [
        "# Loading the Flowers102 dataset for training, validation, and testing, applying the defined transformations and downloading\n",
        "\n",
        "train_data = torchvision.datasets.Flowers102(root='./data', split='train', transform=transform, download=True)\n",
        "val_data = torchvision.datasets.Flowers102(root='./data', split='val', transform=transform, download=True)\n",
        "test_data = torchvision.datasets.Flowers102(root='./data', split='test', transform=transform, download=True)"
      ],
      "metadata": {
        "id": "mtZPZDdfdr8Q"
      },
      "execution_count": 17,
      "outputs": []
    },
    {
      "cell_type": "code",
      "source": [
        "# Creating data loaders for training, validation, and testing with a batch size of 32, shuffling only the training data.\n",
        "\n",
        "train_loader = DataLoader(train_data, batch_size=32, shuffle=True)\n",
        "val_loader = DataLoader(val_data, batch_size=32, shuffle=False)\n",
        "test_loader = DataLoader(test_data, batch_size=32, shuffle=False)"
      ],
      "metadata": {
        "id": "w5An5KeXduU5"
      },
      "execution_count": 18,
      "outputs": []
    },
    {
      "cell_type": "code",
      "source": [
        "class SEBlock(nn.Module):\n",
        "    def __init__(self, in_channels, reduction=16):\n",
        "        super(SEBlock, self).__init__()\n",
        "        self.fc1 = nn.Linear(in_channels, in_channels // reduction)\n",
        "        self.fc2 = nn.Linear(in_channels // reduction, in_channels)\n",
        "\n",
        "    def forward(self, x):\n",
        "        batch_size, num_channels, _, _ = x.size()\n",
        "        squeeze = x.view(batch_size, num_channels, -1).mean(dim=2)\n",
        "        excitation = self.fc1(squeeze)\n",
        "        excitation = nn.ReLU(inplace=True)(excitation)\n",
        "        excitation = self.fc2(excitation)\n",
        "        excitation = nn.Sigmoid()(excitation).view(batch_size, num_channels, 1, 1)\n",
        "        return x * excitation"
      ],
      "metadata": {
        "id": "LBXh2QqtLW5H"
      },
      "execution_count": 19,
      "outputs": []
    },
    {
      "cell_type": "code",
      "source": [
        "class ResidualBlockWithMultiScaleConv(nn.Module):\n",
        "    def __init__(self, in_channels, out_channels):\n",
        "        super(ResidualBlockWithMultiScaleConv, self).__init__()\n",
        "\n",
        "\n",
        "        self.branch1 = nn.Conv2d(in_channels, out_channels, kernel_size=1, padding=0, bias=False)\n",
        "        self.branch2 = nn.Conv2d(in_channels, out_channels, kernel_size=3, padding=1, bias=False)\n",
        "        self.branch3 = nn.Conv2d(in_channels, out_channels, kernel_size=5, padding=2, bias=False)\n",
        "        self.bn = nn.BatchNorm2d(out_channels)\n",
        "\n",
        "        self.se = SEBlock(out_channels)\n",
        "\n",
        "\n",
        "        self.residual_conv = nn.Conv2d(in_channels, out_channels, kernel_size=1, padding=0, bias=False) if in_channels != out_channels else None\n",
        "\n",
        "    def forward(self, x):\n",
        "        residual = x\n",
        "        if self.residual_conv:\n",
        "            residual = self.residual_conv(x)\n",
        "\n",
        "        out = self.branch1(x) + self.branch2(x) + self.branch3(x)\n",
        "        out = self.bn(out)\n",
        "        out = nn.ReLU(inplace=True)(out)\n",
        "        out = self.se(out)\n",
        "        return out + residual"
      ],
      "metadata": {
        "id": "WlO5KXRLLXpu"
      },
      "execution_count": 20,
      "outputs": []
    },
    {
      "cell_type": "code",
      "source": [
        "class VGG16Innovative(nn.Module):\n",
        "    def __init__(self, original_model):\n",
        "        super(VGG16Innovative, self).__init__()\n",
        "\n",
        "\n",
        "        self.features = nn.Sequential(\n",
        "            original_model.features[:24],\n",
        "\n",
        "            ResidualBlockWithMultiScaleConv(512, 512),\n",
        "\n",
        "            original_model.features[24:],\n",
        "        )\n",
        "\n",
        "\n",
        "        self.classifier = nn.Sequential(\n",
        "            nn.Linear(25088, 4096),\n",
        "            nn.ReLU(inplace=True),\n",
        "            nn.BatchNorm1d(4096),\n",
        "            nn.Dropout(0.5),\n",
        "            nn.Linear(4096, 4096),\n",
        "            nn.ReLU(inplace=True),\n",
        "            nn.BatchNorm1d(4096),\n",
        "            nn.Dropout(0.5),\n",
        "            nn.Linear(4096, 102),\n",
        "        )\n",
        "\n",
        "    def forward(self, x):\n",
        "        x = self.features(x)\n",
        "        x = x.view(x.size(0), -1)\n",
        "        x = self.classifier(x)\n",
        "        return x"
      ],
      "metadata": {
        "id": "Rt0HFSkmLdgy"
      },
      "execution_count": 21,
      "outputs": []
    },
    {
      "cell_type": "code",
      "source": [
        "\n",
        "model = torchvision.models.vgg16(pretrained=True)\n",
        "\n",
        "model = VGG16Innovative(model)"
      ],
      "metadata": {
        "id": "xnRuugijdxF8"
      },
      "execution_count": 22,
      "outputs": []
    },
    {
      "cell_type": "code",
      "source": [
        "# Setting the device to GPU if available; otherwise, default to CPU, and then transfer the model to the selected device for optimized processing.\n",
        "\n",
        "device = torch.device(\"cuda\" if torch.cuda.is_available() else \"cpu\")\n",
        "model = model.to(device)"
      ],
      "metadata": {
        "id": "pcU0c3y5gXIh"
      },
      "execution_count": 23,
      "outputs": []
    },
    {
      "cell_type": "code",
      "source": [
        "# Defining the loss function as cross-entropy for multi-class classification and setting up the Adam optimizer,\n",
        "# applying it only to trainable parameters in the model with a learning rate of 0.001.\n",
        "\n",
        "criterion = nn.CrossEntropyLoss()\n",
        "optimizer = optim.Adam(filter(lambda p: p.requires_grad, model.parameters()), lr=0.0001)"
      ],
      "metadata": {
        "id": "QsyG59gkgQAu"
      },
      "execution_count": 24,
      "outputs": []
    },
    {
      "cell_type": "code",
      "source": [
        "def train_model(model, dataloader, criterion, optimizer, device):\n",
        "    model.train()\n",
        "    running_loss = 0.0\n",
        "    correct = 0\n",
        "    total = 0\n",
        "    for inputs, labels in dataloader:\n",
        "        inputs, labels = inputs.to(device), labels.to(device)\n",
        "        optimizer.zero_grad()\n",
        "        outputs = model(inputs)\n",
        "        loss = criterion(outputs, labels)\n",
        "        loss.backward()\n",
        "        optimizer.step()\n",
        "        running_loss += loss.item()\n",
        "        _, predicted = torch.max(outputs, 1)\n",
        "        total += labels.size(0)\n",
        "        correct += (predicted == labels).sum().item()\n",
        "    return running_loss / len(dataloader), correct / total"
      ],
      "metadata": {
        "id": "LSPda9UPeCSk"
      },
      "execution_count": 25,
      "outputs": []
    },
    {
      "cell_type": "code",
      "source": [
        "def validate_model(model, dataloader, criterion, device):\n",
        "    model.eval()\n",
        "    running_loss = 0.0\n",
        "    correct = 0\n",
        "    total = 0\n",
        "    with torch.no_grad():\n",
        "        for inputs, labels in dataloader:\n",
        "            inputs, labels = inputs.to(device), labels.to(device)\n",
        "            outputs = model(inputs)\n",
        "            loss = criterion(outputs, labels)\n",
        "            running_loss += loss.item()\n",
        "            _, predicted = torch.max(outputs, 1)\n",
        "            total += labels.size(0)\n",
        "            correct += (predicted == labels).sum().item()\n",
        "    return running_loss / len(dataloader), correct / total"
      ],
      "metadata": {
        "id": "xj3RsXLOeIiy"
      },
      "execution_count": 26,
      "outputs": []
    },
    {
      "cell_type": "code",
      "source": [
        "def test_model(model, dataloader, device):\n",
        "    model.eval()\n",
        "    correct = 0\n",
        "    total = 0\n",
        "    with torch.no_grad():\n",
        "        for inputs, labels in dataloader:\n",
        "            inputs, labels = inputs.to(device), labels.to(device)\n",
        "            outputs = model(inputs)\n",
        "            _, predicted = torch.max(outputs, 1)\n",
        "            total += labels.size(0)\n",
        "            correct += (predicted == labels).sum().item()\n",
        "    return correct / total"
      ],
      "metadata": {
        "id": "0YiWmZlJeKt8"
      },
      "execution_count": 27,
      "outputs": []
    },
    {
      "cell_type": "code",
      "source": [
        "num_epochs = 100\n",
        "best_val_acc = 0.0\n",
        "patience = 5\n",
        "counter = 0\n",
        "train_loss_history=[]\n",
        "train_acc_history=[]\n",
        "val_loss_history=[]\n",
        "val_acc_history=[]\n",
        "\n",
        "for epoch in range(num_epochs):\n",
        "    train_loss, train_acc = train_model(model, train_loader, criterion, optimizer, device)\n",
        "    val_loss, val_acc = validate_model(model, val_loader, criterion, device)\n",
        "    train_loss_history.append(train_loss)\n",
        "    train_acc_history.append(train_acc)\n",
        "    val_loss_history.append(val_loss)\n",
        "    val_acc_history.append(val_acc)\n",
        "    print(f\"Epoch [{epoch+1}/{num_epochs}], Train Loss: {train_loss:.4f}, Train Accuracy: {train_acc:.4f}, Validation Loss: {val_loss:.4f}, Validation Accuracy: {val_acc:.4f}\")\n",
        "\n",
        "    if val_acc > best_val_acc:\n",
        "        best_val_acc = val_acc\n",
        "        torch.save(model.state_dict(), 'Best_VGG16_MSResNet.pth')\n",
        "        counter = 0\n",
        "    else:\n",
        "        counter += 1\n",
        "\n",
        "    if counter >= patience:\n",
        "        print(f\"Early stopping at epoch {epoch+1}. No improvement in validation accuracy for {patience} consecutive epochs.\")\n",
        "        break"
      ],
      "metadata": {
        "colab": {
          "base_uri": "https://localhost:8080/"
        },
        "id": "QG66kA7DeNHT",
        "outputId": "82991b54-8fa8-4736-df01-2ea45f287ef7"
      },
      "execution_count": 28,
      "outputs": [
        {
          "output_type": "stream",
          "name": "stdout",
          "text": [
            "Epoch [1/100], Train Loss: 4.1114, Train Accuracy: 0.1108, Validation Loss: 3.0118, Validation Accuracy: 0.3127\n",
            "Epoch [2/100], Train Loss: 1.8308, Train Accuracy: 0.6578, Validation Loss: 1.8175, Validation Accuracy: 0.6039\n",
            "Epoch [3/100], Train Loss: 0.5817, Train Accuracy: 0.9451, Validation Loss: 1.5005, Validation Accuracy: 0.7020\n",
            "Epoch [4/100], Train Loss: 0.1426, Train Accuracy: 0.9980, Validation Loss: 1.2977, Validation Accuracy: 0.7451\n",
            "Epoch [5/100], Train Loss: 0.0552, Train Accuracy: 1.0000, Validation Loss: 1.1827, Validation Accuracy: 0.7588\n",
            "Epoch [6/100], Train Loss: 0.0312, Train Accuracy: 1.0000, Validation Loss: 1.1345, Validation Accuracy: 0.7618\n",
            "Epoch [7/100], Train Loss: 0.0195, Train Accuracy: 1.0000, Validation Loss: 1.1047, Validation Accuracy: 0.7686\n",
            "Epoch [8/100], Train Loss: 0.0150, Train Accuracy: 1.0000, Validation Loss: 1.0692, Validation Accuracy: 0.7784\n",
            "Epoch [9/100], Train Loss: 0.0133, Train Accuracy: 1.0000, Validation Loss: 1.0626, Validation Accuracy: 0.7784\n",
            "Epoch [10/100], Train Loss: 0.0094, Train Accuracy: 1.0000, Validation Loss: 1.0650, Validation Accuracy: 0.7686\n",
            "Epoch [11/100], Train Loss: 0.0087, Train Accuracy: 1.0000, Validation Loss: 1.0376, Validation Accuracy: 0.7755\n",
            "Epoch [12/100], Train Loss: 0.0068, Train Accuracy: 1.0000, Validation Loss: 1.0251, Validation Accuracy: 0.7794\n",
            "Epoch [13/100], Train Loss: 0.0055, Train Accuracy: 1.0000, Validation Loss: 1.0202, Validation Accuracy: 0.7804\n",
            "Epoch [14/100], Train Loss: 0.0049, Train Accuracy: 1.0000, Validation Loss: 1.0101, Validation Accuracy: 0.7853\n",
            "Epoch [15/100], Train Loss: 0.0046, Train Accuracy: 1.0000, Validation Loss: 0.9983, Validation Accuracy: 0.7922\n",
            "Epoch [16/100], Train Loss: 0.0035, Train Accuracy: 1.0000, Validation Loss: 0.9995, Validation Accuracy: 0.7843\n",
            "Epoch [17/100], Train Loss: 0.0035, Train Accuracy: 1.0000, Validation Loss: 0.9922, Validation Accuracy: 0.7833\n",
            "Epoch [18/100], Train Loss: 0.0029, Train Accuracy: 1.0000, Validation Loss: 0.9898, Validation Accuracy: 0.7814\n",
            "Epoch [19/100], Train Loss: 0.0029, Train Accuracy: 1.0000, Validation Loss: 0.9877, Validation Accuracy: 0.7863\n",
            "Epoch [20/100], Train Loss: 0.0024, Train Accuracy: 1.0000, Validation Loss: 0.9802, Validation Accuracy: 0.7863\n",
            "Early stopping at epoch 20. No improvement in validation accuracy for 5 consecutive epochs.\n"
          ]
        }
      ]
    },
    {
      "cell_type": "code",
      "source": [
        "import matplotlib.pyplot as plt\n",
        "epochs = range(1, len(train_loss_history) + 1)\n",
        "\n",
        "plt.figure(figsize=(10, 5))\n",
        "plt.subplot(2, 1, 1)\n",
        "plt.plot(epochs, train_loss_history, 'b-', label='Training Loss')\n",
        "plt.plot(epochs, val_loss_history, 'orange', label='Validation Loss')\n",
        "plt.xlabel('Epochs')\n",
        "plt.ylabel('Loss')\n",
        "plt.title('Training and Validation Loss History')\n",
        "plt.legend()\n",
        "plt.grid()\n",
        "\n",
        "\n",
        "plt.subplot(2, 1, 2)\n",
        "plt.plot(epochs, train_acc_history, 'b-', label='Training Accuracy')\n",
        "plt.plot(epochs, val_acc_history, 'orange', label='Validation Accuracy')\n",
        "plt.xlabel('Epochs')\n",
        "plt.ylabel('Accuracy')\n",
        "plt.title('Training and Validation Accuracy History')\n",
        "plt.legend()\n",
        "plt.grid()\n",
        "\n",
        "plt.tight_layout()\n",
        "plt.show()"
      ],
      "metadata": {
        "colab": {
          "base_uri": "https://localhost:8080/",
          "height": 507
        },
        "id": "p0A-hXi0eVOc",
        "outputId": "6910443e-c89e-414c-aed6-0a818e6434da"
      },
      "execution_count": 29,
      "outputs": [
        {
          "output_type": "display_data",
          "data": {
            "text/plain": [
              "<Figure size 1000x500 with 2 Axes>"
            ],
            "image/png": "[encoded data removed]"
          },
          "metadata": {}
        }
      ]
    },
    {
      "cell_type": "code",
      "source": [
        "model.load_state_dict(torch.load('Best_VGG16_MSResNet.pth'))\n",
        "test_acc = test_model(model, test_loader, device)\n",
        "print(f\"Test Accuracy: {test_acc:.4f}\")"
      ],
      "metadata": {
        "colab": {
          "base_uri": "https://localhost:8080/"
        },
        "id": "qvZEYg8ieY4A",
        "outputId": "ffc7b315-f350-4454-cea3-6e62e4bb10d3"
      },
      "execution_count": 32,
      "outputs": [
        {
          "output_type": "stream",
          "name": "stderr",
          "text": [
            "<ipython-input-32-11ffeaf553cb>:1: FutureWarning: You are using `torch.load` with `weights_only=False` (the current default value), which uses the default pickle module implicitly. It is possible to construct malicious pickle data which will execute arbitrary code during unpickling (See https://github.com/pytorch/pytorch/blob/main/SECURITY.md#untrusted-models for more details). In a future release, the default value for `weights_only` will be flipped to `True`. This limits the functions that could be executed during unpickling. Arbitrary objects will no longer be allowed to be loaded via this mode unless they are explicitly allowlisted by the user via `torch.serialization.add_safe_globals`. We recommend you start setting `weights_only=True` for any use case where you don't have full control of the loaded file. Please open an issue on GitHub for any issues related to this experimental feature.\n",
            "  model.load_state_dict(torch.load('Best_VGG16_MSResNet'))\n"
          ]
        },
        {
          "output_type": "stream",
          "name": "stdout",
          "text": [
            "Test Accuracy: 0.7779\n"
          ]
        }
      ]
    },
    {
      "cell_type": "code",
      "source": [],
      "metadata": {
        "id": "CELPB3suQXSB"
      },
      "execution_count": null,
      "outputs": []
    }
  ]
}