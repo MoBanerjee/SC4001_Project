{
  "nbformat": 4,
  "nbformat_minor": 0,
  "metadata": {
    "colab": {
      "provenance": [],
      "gpuType": "A100",
      "include_colab_link": true
    },
    "kernelspec": {
      "name": "python3",
      "display_name": "Python 3"
    },
    "language_info": {
      "name": "python"
    },
    "accelerator": "GPU"
  },
  "cells": [
    {
      "cell_type": "markdown",
      "metadata": {
        "id": "view-in-github",
        "colab_type": "text"
      },
      "source": [
        "<a href=\"https://colab.research.google.com/github/MoBanerjee/SC4001_Project/blob/main/ViT_FocalMarginLoss.ipynb\" target=\"_parent\"><img src=\"https://colab.research.google.com/assets/colab-badge.svg\" alt=\"Open In Colab\"/></a>"
      ]
    },
    {
      "cell_type": "code",
      "execution_count": 61,
      "metadata": {
        "id": "YRSAQPfMUlG8"
      },
      "outputs": [],
      "source": [
        "import torch\n",
        "import torch.nn as nn\n",
        "import torchvision.transforms as transforms\n",
        "import torch.nn.functional as F\n",
        "from transformers import ViTForImageClassification, ViTFeatureExtractor\n",
        "from torch.utils.data import DataLoader\n",
        "from torchvision.datasets import Flowers102"
      ]
    },
    {
      "cell_type": "code",
      "source": [
        "transform = transforms.Compose([\n",
        "    transforms.Resize((224, 224)),\n",
        "    transforms.ToTensor(),\n",
        "    transforms.Normalize(mean=[0.485, 0.456, 0.406], std=[0.229, 0.224, 0.225]),\n",
        "])"
      ],
      "metadata": {
        "id": "ZRHS82tJUoou"
      },
      "execution_count": 62,
      "outputs": []
    },
    {
      "cell_type": "code",
      "source": [
        "train_data = Flowers102(root='./data', split='train', transform=transform, download=True)\n",
        "val_data = Flowers102(root='./data', split='val', transform=transform, download=True)\n",
        "test_data = Flowers102(root='./data', split='test', transform=transform, download=True)"
      ],
      "metadata": {
        "id": "ZM_cfMW6Ut2T"
      },
      "execution_count": 63,
      "outputs": []
    },
    {
      "cell_type": "code",
      "source": [
        "train_loader = DataLoader(train_data, batch_size=16, shuffle=True)\n",
        "val_loader = DataLoader(val_data, batch_size=16, shuffle=False)\n",
        "test_loader = DataLoader(test_data, batch_size=16, shuffle=False)"
      ],
      "metadata": {
        "id": "fphNqnR-UuWg"
      },
      "execution_count": 64,
      "outputs": []
    },
    {
      "cell_type": "code",
      "source": [
        "device = torch.device(\"cuda\" if torch.cuda.is_available() else \"cpu\")"
      ],
      "metadata": {
        "id": "1w0AOWyTUmKx"
      },
      "execution_count": 65,
      "outputs": []
    },
    {
      "cell_type": "code",
      "source": [
        "model = ViTForImageClassification.from_pretrained('google/vit-base-patch16-224-in21k', num_labels=102)\n",
        "model = model.to(device)\n"
      ],
      "metadata": {
        "colab": {
          "base_uri": "https://localhost:8080/"
        },
        "id": "WsrmYA3zUrJH",
        "outputId": "79b4ac47-c01d-42eb-ce65-599a50c2957c"
      },
      "execution_count": 66,
      "outputs": [
        {
          "output_type": "stream",
          "name": "stderr",
          "text": [
            "Some weights of ViTForImageClassification were not initialized from the model checkpoint at google/vit-base-patch16-224-in21k and are newly initialized: ['classifier.bias', 'classifier.weight']\n",
            "You should probably TRAIN this model on a down-stream task to be able to use it for predictions and inference.\n"
          ]
        }
      ]
    },
    {
      "cell_type": "code",
      "source": [
        "class FocalMarginLoss(nn.Module):\n",
        "    def __init__(self, gamma=1, alpha=0.5, margin=0.4, lambda_margin=0.5):\n",
        "        super(FocalMarginLoss, self).__init__()\n",
        "        self.gamma = gamma\n",
        "        self.alpha = alpha\n",
        "        self.margin = margin\n",
        "        self.lambda_margin = lambda_margin\n",
        "        self.ce_loss = nn.CrossEntropyLoss()\n",
        "\n",
        "    def forward(self, logits, targets):\n",
        "\n",
        "        log_prob = F.log_softmax(logits, dim=-1)\n",
        "        prob = torch.exp(log_prob)\n",
        "        focal_loss = -self.alpha * (1 - prob) ** self.gamma * log_prob\n",
        "        focal_loss = focal_loss.gather(1, targets.unsqueeze(1)).mean()\n",
        "\n",
        "\n",
        "        margin_logit = logits.clone()\n",
        "        margin_logit[range(len(targets)), targets] -= self.margin\n",
        "        margin_loss = self.ce_loss(margin_logit, targets)\n",
        "\n",
        "\n",
        "        return focal_loss + self.lambda_margin * margin_loss\n",
        "\n",
        "criterion = FocalMarginLoss()\n"
      ],
      "metadata": {
        "id": "oFMhuUj29xfj"
      },
      "execution_count": 67,
      "outputs": []
    },
    {
      "cell_type": "code",
      "source": [
        "\n",
        "optimizer = torch.optim.Adam(model.parameters(), lr=2e-5)"
      ],
      "metadata": {
        "id": "ydtN9cVlUzAT"
      },
      "execution_count": 68,
      "outputs": []
    },
    {
      "cell_type": "code",
      "source": [
        "class EarlyStopping:\n",
        "    def __init__(self, patience=5, verbose=False):\n",
        "        self.patience = patience\n",
        "        self.verbose = verbose\n",
        "        self.counter = 0\n",
        "        self.best_score = None\n",
        "        self.early_stop = False\n",
        "\n",
        "    def __call__(self, score, epoch):\n",
        "        if self.best_score is None:\n",
        "            self.best_score = score\n",
        "        elif score < self.best_score:\n",
        "            self.counter += 1\n",
        "            if self.verbose:\n",
        "                print(f'EarlyStopping counter: {self.counter} out of {self.patience} at epoch {epoch}')\n",
        "            if self.counter >= self.patience:\n",
        "                self.early_stop = True\n",
        "                print(f'Early stopping at epoch {epoch}. No improvement in validation accuracy for {self.patience} consecutive epochs.')\n",
        "        else:\n",
        "            self.best_score = score\n",
        "            self.counter = 0\n"
      ],
      "metadata": {
        "id": "Kqty2lzRV3Ib"
      },
      "execution_count": 69,
      "outputs": []
    },
    {
      "cell_type": "code",
      "source": [
        "def train_model(model, train_loader, val_loader, optimizer, criterion, model_save_path, epochs=5, patience=5):\n",
        "    early_stopping = EarlyStopping(patience=patience, verbose=True)\n",
        "    best_val_accuracy = 0.0\n",
        "    best_model_wts = None\n",
        "\n",
        "\n",
        "    train_loss_history = []\n",
        "    train_accuracy_history = []\n",
        "    val_loss_history = []\n",
        "    val_accuracy_history = []\n",
        "\n",
        "    for epoch in range(epochs):\n",
        "        model.train()\n",
        "        running_loss = 0.0\n",
        "        correct = 0\n",
        "        total = 0\n",
        "\n",
        "        for images, labels in train_loader:\n",
        "            images, labels = images.to(device), labels.to(device)\n",
        "\n",
        "            optimizer.zero_grad()\n",
        "            outputs = model(images).logits\n",
        "            loss = criterion(outputs, labels)\n",
        "            loss.backward()\n",
        "            optimizer.step()\n",
        "\n",
        "            running_loss += loss.item()\n",
        "\n",
        "\n",
        "            _, predicted = torch.max(outputs, 1)\n",
        "            total += labels.size(0)\n",
        "            correct += (predicted == labels).sum().item()\n",
        "\n",
        "        train_loss = running_loss / len(train_loader)\n",
        "        train_accuracy = correct / total\n",
        "\n",
        "\n",
        "        val_loss, val_accuracy = validate_model(model, val_loader, criterion)\n",
        "\n",
        "\n",
        "        train_loss_history.append(train_loss)\n",
        "        train_accuracy_history.append(train_accuracy)\n",
        "        val_loss_history.append(val_loss)\n",
        "        val_accuracy_history.append(val_accuracy)\n",
        "\n",
        "\n",
        "        print(f\"Epoch [{epoch + 1}/{epochs}], \"\n",
        "              f\"Train Loss: {train_loss:.4f}, \"\n",
        "              f\"Train Accuracy: {train_accuracy:.4f}, \"\n",
        "              f\"Validation Loss: {val_loss:.4f}, \"\n",
        "              f\"Validation Accuracy: {val_accuracy:.4f}\")\n",
        "\n",
        "\n",
        "        if val_accuracy > best_val_accuracy:\n",
        "            best_val_accuracy = val_accuracy\n",
        "            best_model_wts = model.state_dict()\n",
        "\n",
        "\n",
        "        early_stopping(val_accuracy, epoch + 1)\n",
        "\n",
        "        if early_stopping.early_stop:\n",
        "\n",
        "            break\n",
        "\n",
        "\n",
        "    if best_model_wts is not None:\n",
        "        model.load_state_dict(best_model_wts)\n",
        "\n",
        "    torch.save(model.state_dict(), model_save_path)\n",
        "\n",
        "\n",
        "\n",
        "    return train_loss_history, train_accuracy_history, val_loss_history, val_accuracy_history\n"
      ],
      "metadata": {
        "id": "S1aN8CofU1uY"
      },
      "execution_count": 70,
      "outputs": []
    },
    {
      "cell_type": "code",
      "source": [
        "def validate_model(model, val_loader, criterion):\n",
        "    model.eval()\n",
        "    total_loss = 0.0\n",
        "    correct = 0\n",
        "    total = 0\n",
        "\n",
        "    with torch.no_grad():\n",
        "        for images, labels in val_loader:\n",
        "            images, labels = images.to(device), labels.to(device)\n",
        "            outputs = model(images).logits\n",
        "            loss = criterion(outputs, labels)\n",
        "\n",
        "            total_loss += loss.item()\n",
        "\n",
        "\n",
        "            _, predicted = torch.max(outputs, 1)\n",
        "            total += labels.size(0)\n",
        "            correct += (predicted == labels).sum().item()\n",
        "\n",
        "    val_loss = total_loss / len(val_loader)\n",
        "    val_accuracy = correct / total\n",
        "    return val_loss, val_accuracy"
      ],
      "metadata": {
        "id": "-TYdK_Y0VFG3"
      },
      "execution_count": 71,
      "outputs": []
    },
    {
      "cell_type": "code",
      "source": [
        "def test_model(model, test_loader):\n",
        "    model.eval()\n",
        "    correct = 0\n",
        "    total = 0\n",
        "    with torch.no_grad():\n",
        "        for images, labels in test_loader:\n",
        "            images, labels = images.to(device), labels.to(device)\n",
        "            outputs = model(images).logits\n",
        "            _, predicted = torch.max(outputs, 1)\n",
        "            total += labels.size(0)\n",
        "            correct += (predicted == labels).sum().item()\n",
        "\n",
        "    print(f'Test Accuracy: {100 * correct / total:.2f}%')"
      ],
      "metadata": {
        "id": "4GABgJ0iW_1H"
      },
      "execution_count": 72,
      "outputs": []
    },
    {
      "cell_type": "code",
      "source": [
        "train_loss_history, train_accuracy_history, val_loss_history, val_accuracy_history = train_model(model, train_loader, val_loader, optimizer, criterion, epochs=25,model_save_path='Best_ViT_FocalMarginLoss.pth')"
      ],
      "metadata": {
        "colab": {
          "base_uri": "https://localhost:8080/"
        },
        "id": "by-JIaSDVKxE",
        "outputId": "87d3f669-ca6e-41d2-bc88-4e83f72111ad"
      },
      "execution_count": 73,
      "outputs": [
        {
          "output_type": "stream",
          "name": "stdout",
          "text": [
            "Epoch [1/25], Train Loss: 4.7348, Train Accuracy: 0.0814, Validation Loss: 4.6319, Validation Accuracy: 0.2078\n",
            "Epoch [2/25], Train Loss: 4.4863, Train Accuracy: 0.5020, Validation Loss: 4.4407, Validation Accuracy: 0.6108\n",
            "Epoch [3/25], Train Loss: 4.2237, Train Accuracy: 0.8873, Validation Loss: 4.2412, Validation Accuracy: 0.7902\n",
            "Epoch [4/25], Train Loss: 3.9569, Train Accuracy: 0.9755, Validation Loss: 4.0558, Validation Accuracy: 0.8588\n",
            "Epoch [5/25], Train Loss: 3.7041, Train Accuracy: 0.9922, Validation Loss: 3.8779, Validation Accuracy: 0.8882\n",
            "Epoch [6/25], Train Loss: 3.4612, Train Accuracy: 0.9990, Validation Loss: 3.7104, Validation Accuracy: 0.9127\n",
            "Epoch [7/25], Train Loss: 3.2395, Train Accuracy: 0.9980, Validation Loss: 3.5603, Validation Accuracy: 0.9137\n",
            "Epoch [8/25], Train Loss: 3.0279, Train Accuracy: 1.0000, Validation Loss: 3.4085, Validation Accuracy: 0.9294\n",
            "Epoch [9/25], Train Loss: 2.8281, Train Accuracy: 1.0000, Validation Loss: 3.2668, Validation Accuracy: 0.9392\n",
            "Epoch [10/25], Train Loss: 2.6364, Train Accuracy: 1.0000, Validation Loss: 3.1372, Validation Accuracy: 0.9441\n",
            "Epoch [11/25], Train Loss: 2.4573, Train Accuracy: 1.0000, Validation Loss: 3.0129, Validation Accuracy: 0.9480\n",
            "Epoch [12/25], Train Loss: 2.2863, Train Accuracy: 1.0000, Validation Loss: 2.8934, Validation Accuracy: 0.9480\n",
            "Epoch [13/25], Train Loss: 2.1272, Train Accuracy: 1.0000, Validation Loss: 2.7708, Validation Accuracy: 0.9471\n",
            "EarlyStopping counter: 1 out of 5 at epoch 13\n",
            "Epoch [14/25], Train Loss: 1.9732, Train Accuracy: 1.0000, Validation Loss: 2.6601, Validation Accuracy: 0.9529\n",
            "Epoch [15/25], Train Loss: 1.8250, Train Accuracy: 1.0000, Validation Loss: 2.5535, Validation Accuracy: 0.9549\n",
            "Epoch [16/25], Train Loss: 1.6881, Train Accuracy: 1.0000, Validation Loss: 2.4480, Validation Accuracy: 0.9598\n",
            "Epoch [17/25], Train Loss: 1.5613, Train Accuracy: 1.0000, Validation Loss: 2.3593, Validation Accuracy: 0.9569\n",
            "EarlyStopping counter: 1 out of 5 at epoch 17\n",
            "Epoch [18/25], Train Loss: 1.4405, Train Accuracy: 1.0000, Validation Loss: 2.2663, Validation Accuracy: 0.9608\n",
            "Epoch [19/25], Train Loss: 1.3306, Train Accuracy: 1.0000, Validation Loss: 2.1762, Validation Accuracy: 0.9618\n",
            "Epoch [20/25], Train Loss: 1.2261, Train Accuracy: 1.0000, Validation Loss: 2.0873, Validation Accuracy: 0.9637\n",
            "Epoch [21/25], Train Loss: 1.1285, Train Accuracy: 1.0000, Validation Loss: 2.0075, Validation Accuracy: 0.9637\n",
            "Epoch [22/25], Train Loss: 1.0369, Train Accuracy: 1.0000, Validation Loss: 1.9360, Validation Accuracy: 0.9637\n",
            "Epoch [23/25], Train Loss: 0.9534, Train Accuracy: 1.0000, Validation Loss: 1.8663, Validation Accuracy: 0.9647\n",
            "Epoch [24/25], Train Loss: 0.8788, Train Accuracy: 1.0000, Validation Loss: 1.7979, Validation Accuracy: 0.9657\n",
            "Epoch [25/25], Train Loss: 0.8109, Train Accuracy: 1.0000, Validation Loss: 1.7325, Validation Accuracy: 0.9657\n"
          ]
        }
      ]
    },
    {
      "cell_type": "code",
      "source": [
        "import matplotlib.pyplot as plt\n",
        "epochs = range(1, len(train_loss_history) + 1)\n",
        "\n",
        "plt.figure(figsize=(10, 5))\n",
        "plt.subplot(2, 1, 1)\n",
        "plt.plot(epochs, train_loss_history, 'b-', label='Training Loss')\n",
        "plt.plot(epochs, val_loss_history, 'orange', label='Validation Loss')\n",
        "plt.xlabel('Epochs')\n",
        "plt.ylabel('Loss')\n",
        "plt.title('Training and Validation Loss History')\n",
        "plt.legend()\n",
        "plt.grid()\n",
        "\n",
        "\n",
        "plt.subplot(2, 1, 2)\n",
        "plt.plot(epochs, train_accuracy_history, 'b-', label='Training Accuracy')\n",
        "plt.plot(epochs, val_accuracy_history, 'orange', label='Validation Accuracy')\n",
        "plt.xlabel('Epochs')\n",
        "plt.ylabel('Accuracy')\n",
        "plt.title('Training and Validation Accuracy History')\n",
        "plt.legend()\n",
        "plt.grid()\n",
        "\n",
        "plt.tight_layout()\n",
        "plt.show()"
      ],
      "metadata": {
        "colab": {
          "base_uri": "https://localhost:8080/",
          "height": 507
        },
        "id": "UwkOxTh_W55v",
        "outputId": "d06eba55-c260-40fb-8be4-6d103d790aba"
      },
      "execution_count": 76,
      "outputs": [
        {
          "output_type": "display_data",
          "data": {
            "text/plain": [
              "<Figure size 1000x500 with 2 Axes>"
            ],
            "image/png": "[encoded data removed]"
          },
          "metadata": {}
        }
      ]
    },
    {
      "cell_type": "code",
      "source": [
        "test_model(model, test_loader)"
      ],
      "metadata": {
        "colab": {
          "base_uri": "https://localhost:8080/"
        },
        "id": "nt597_6RVNvq",
        "outputId": "8258bb8f-c276-4368-b9c9-6336cf573309"
      },
      "execution_count": 77,
      "outputs": [
        {
          "output_type": "stream",
          "name": "stdout",
          "text": [
            "Test Accuracy: 95.10%\n"
          ]
        }
      ]
    },
    {
      "cell_type": "code",
      "source": [],
      "metadata": {
        "id": "BkApUinIDTlZ"
      },
      "execution_count": null,
      "outputs": []
    }
  ]
}