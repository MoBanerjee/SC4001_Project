{
 "cells": [
  {
   "cell_type": "code",
   "execution_count": 1,
   "metadata": {},
   "outputs": [],
   "source": [
    "import torch\n",
    "import torch.nn as nn\n",
    "import torch.optim as optim\n",
    "from torchvision import datasets, transforms, models\n",
    "from torch.utils.data import DataLoader, Subset\n",
    "from torchmetrics.classification import MulticlassAccuracy\n",
    "import matplotlib.pyplot as plt\n",
    "import numpy as np"
   ]
  },
  {
   "cell_type": "code",
   "execution_count": 2,
   "metadata": {},
   "outputs": [
    {
     "name": "stdout",
     "output_type": "stream",
     "text": [
      "Using device: cuda\n"
     ]
    }
   ],
   "source": [
    "device = torch.device('cuda' if torch.cuda.is_available() else 'cpu')\n",
    "print(f\"Using device: {device}\")\n",
    "\n",
    "NUM_CLASSES = 102\n",
    "NUM_IMAGES_PER_CLASS = 5"
   ]
  },
  {
   "cell_type": "code",
   "execution_count": 3,
   "metadata": {},
   "outputs": [],
   "source": [
    "transform = transforms.Compose([\n",
    "    transforms.Resize((224, 224)),\n",
    "    transforms.ToTensor(),\n",
    "    transforms.Normalize(mean=[0.485, 0.456, 0.406], std=[0.229, 0.224, 0.225]),\n",
    "])"
   ]
  },
  {
   "cell_type": "code",
   "execution_count": 4,
   "metadata": {},
   "outputs": [],
   "source": [
    "train_dataset = datasets.Flowers102(root='./data', split='train', download=True, transform=transform)\n",
    "val_dataset = datasets.Flowers102(root='./data', split='val', download=True, transform=transform)\n",
    "test_dataset = datasets.Flowers102(root='./data', split='test', download=True, transform=transform)"
   ]
  },
  {
   "cell_type": "code",
   "execution_count": 5,
   "metadata": {},
   "outputs": [],
   "source": [
    "# subset of the training dataset with only a few images per class\n",
    "labels = np.array(train_dataset._labels)\n",
    "selected_indices = []\n",
    "\n",
    "for class_id in range(NUM_CLASSES):\n",
    "    # Find indices of samples that belong to the current class\n",
    "    class_indices = np.where(labels == class_id)[0]\n",
    "    # Randomly select NUM_IMAGES_PER_CLASS indices from the current class\n",
    "    random_class_indices = np.random.choice(class_indices, NUM_IMAGES_PER_CLASS, replace=False)\n",
    "    selected_indices.extend(random_class_indices)\n",
    "\n",
    "few_shot_subset = Subset(train_dataset, selected_indices)"
   ]
  },
  {
   "cell_type": "code",
   "execution_count": 6,
   "metadata": {},
   "outputs": [],
   "source": [
    "train_loader = DataLoader(few_shot_subset, batch_size=32, shuffle=True)\n",
    "val_loader = DataLoader(val_dataset, batch_size=32, shuffle=False)\n",
    "test_loader = DataLoader(test_dataset, batch_size=32, shuffle=False)"
   ]
  },
  {
   "cell_type": "code",
   "execution_count": 7,
   "metadata": {},
   "outputs": [
    {
     "name": "stderr",
     "output_type": "stream",
     "text": [
      "c:\\Python312\\Lib\\site-packages\\torchvision\\models\\_utils.py:208: UserWarning: The parameter 'pretrained' is deprecated since 0.13 and may be removed in the future, please use 'weights' instead.\n",
      "  warnings.warn(\n",
      "c:\\Python312\\Lib\\site-packages\\torchvision\\models\\_utils.py:223: UserWarning: Arguments other than a weight enum or `None` for 'weights' are deprecated since 0.13 and may be removed in the future. The current behavior is equivalent to passing `weights=ResNet18_Weights.IMAGENET1K_V1`. You can also use `weights=ResNet18_Weights.DEFAULT` to get the most up-to-date weights.\n",
      "  warnings.warn(msg)\n"
     ]
    }
   ],
   "source": [
    "model = models.resnet18(pretrained=True)\n",
    "model.fc = nn.Linear(model.fc.in_features, NUM_CLASSES, bias=True)\n",
    "\n",
    "if torch.cuda.is_available():\n",
    "    model = model.cuda()"
   ]
  },
  {
   "cell_type": "code",
   "execution_count": 8,
   "metadata": {},
   "outputs": [],
   "source": [
    "class EarlyStopper:\n",
    "    def __init__(self, patience=5, verbose=True):\n",
    "        self.patience = patience\n",
    "        self.counter = 0\n",
    "        self.best_score = float('inf')\n",
    "        self.verbose = verbose\n",
    "\n",
    "    def early_stop(self, val_loss, model):\n",
    "        if val_loss < self.best_score:\n",
    "            self.best_score = val_loss\n",
    "            self.counter = 0\n",
    "            torch.save(model.state_dict(), 'few_shot_model.pth')\n",
    "        else:\n",
    "            self.counter += 1\n",
    "           \n",
    "        if self.counter >= self.patience:\n",
    "            if self.verbose:\n",
    "                print(\"Early stopping...\")\n",
    "            return True\n",
    "        return False"
   ]
  },
  {
   "cell_type": "code",
   "execution_count": 9,
   "metadata": {},
   "outputs": [],
   "source": [
    "# Optimizer and loss function\n",
    "loss_fn = nn.CrossEntropyLoss()\n",
    "optimizer = optim.Adam(model.parameters(), lr=0.001)\n"
   ]
  },
  {
   "cell_type": "code",
   "execution_count": 10,
   "metadata": {},
   "outputs": [],
   "source": [
    "earlystopper = EarlyStopper()"
   ]
  },
  {
   "cell_type": "code",
   "execution_count": 11,
   "metadata": {},
   "outputs": [],
   "source": [
    "accuracy = MulticlassAccuracy(num_classes=NUM_CLASSES).to(device)"
   ]
  },
  {
   "cell_type": "code",
   "execution_count": 12,
   "metadata": {},
   "outputs": [],
   "source": [
    "\n",
    "# Training function\n",
    "def train_model(model, train_loader, val_loader, loss_fn, optimizer, earlystopper, num_epochs=100):\n",
    "    train_losses_history = []\n",
    "    val_losses_history = []\n",
    "    train_accuracies_history = []\n",
    "    val_accuracies_history = []\n",
    "    for epoch in range(num_epochs):\n",
    "        model.train()  # Set the model to training mode\n",
    "        running_loss = 0\n",
    "        correct = 0\n",
    "        total = 0\n",
    "        \n",
    "        for images, labels in train_loader:\n",
    "            images, labels = images.to(device), labels.to(device)\n",
    "            \n",
    "            # Zero the parameter gradients\n",
    "            optimizer.zero_grad()\n",
    "            \n",
    "            # Forward pass\n",
    "            outputs = model(images)\n",
    "            _, predicted = torch.max(outputs.data, 1)\n",
    "            loss = loss_fn(outputs, labels)\n",
    "            running_loss += loss.item()\n",
    "            correct += accuracy(outputs, labels).item()\n",
    "            total += 1\n",
    "            \n",
    "            # Backward pass and optimization\n",
    "            loss.backward()\n",
    "            optimizer.step()\n",
    "        \n",
    "\n",
    "        average_train_loss = running_loss / total\n",
    "        average_train_accuracy = correct / total\n",
    "        train_losses_history.append(average_train_loss)\n",
    "        train_accuracies_history.append(average_train_accuracy)\n",
    "\n",
    "        \n",
    "       # Validation\n",
    "        model.eval()  # Set the model to evaluation mode\n",
    "        correct = 0\n",
    "        total = 0\n",
    "        running_loss = 0\n",
    "        \n",
    "        with torch.no_grad():\n",
    "            for images, labels in val_loader:\n",
    "                images, labels = images.to(device), labels.to(device)\n",
    "\n",
    "                outputs = model(images)\n",
    "                loss = loss_fn(outputs, labels)\n",
    "                running_loss += loss.item()\n",
    "                _, predicted = torch.max(outputs.data, 1)\n",
    "                correct += accuracy(outputs, labels).item()\n",
    "                total += 1\n",
    "\n",
    "        average_val_loss = running_loss / total\n",
    "        average_val_accuracy = correct / total\n",
    "        val_losses_history.append(average_val_loss)\n",
    "        val_accuracies_history.append(average_val_accuracy)\n",
    "\n",
    "        print(f\"Epoch [{epoch}/{num_epochs}], Train Loss: {average_train_loss:.4f}, Train Accuracy: {average_train_accuracy:.4f}, Validation Loss: {average_val_loss:.4f}, Validation Accuracy: {average_val_accuracy:.4f}\")\n",
    "\n",
    "        if earlystopper.early_stop(average_val_loss, model):\n",
    "            break \n",
    "    \n",
    "    return train_losses_history, train_accuracies_history, val_losses_history, val_accuracies_history\n",
    "\n"
   ]
  },
  {
   "cell_type": "code",
   "execution_count": 13,
   "metadata": {},
   "outputs": [
    {
     "name": "stdout",
     "output_type": "stream",
     "text": [
      "Epoch [0/100], Train Loss: 4.3041, Train Accuracy: 0.0913, Validation Loss: 6.2188, Validation Accuracy: 0.0395\n",
      "Epoch [1/100], Train Loss: 1.8191, Train Accuracy: 0.5731, Validation Loss: 2.2715, Validation Accuracy: 0.1746\n",
      "Epoch [2/100], Train Loss: 0.5509, Train Accuracy: 0.9347, Validation Loss: 1.6626, Validation Accuracy: 0.2615\n",
      "Epoch [3/100], Train Loss: 0.1874, Train Accuracy: 0.9852, Validation Loss: 1.3616, Validation Accuracy: 0.2942\n",
      "Epoch [4/100], Train Loss: 0.0594, Train Accuracy: 1.0000, Validation Loss: 1.2498, Validation Accuracy: 0.3364\n",
      "Epoch [5/100], Train Loss: 0.0228, Train Accuracy: 1.0000, Validation Loss: 1.1280, Validation Accuracy: 0.3601\n",
      "Epoch [6/100], Train Loss: 0.0107, Train Accuracy: 1.0000, Validation Loss: 1.0464, Validation Accuracy: 0.3924\n",
      "Epoch [7/100], Train Loss: 0.0079, Train Accuracy: 1.0000, Validation Loss: 1.0143, Validation Accuracy: 0.4100\n",
      "Epoch [8/100], Train Loss: 0.0054, Train Accuracy: 1.0000, Validation Loss: 0.9971, Validation Accuracy: 0.4059\n",
      "Epoch [9/100], Train Loss: 0.0051, Train Accuracy: 1.0000, Validation Loss: 0.9804, Validation Accuracy: 0.4055\n",
      "Epoch [10/100], Train Loss: 0.0040, Train Accuracy: 1.0000, Validation Loss: 0.9729, Validation Accuracy: 0.4063\n",
      "Epoch [11/100], Train Loss: 0.0037, Train Accuracy: 1.0000, Validation Loss: 0.9698, Validation Accuracy: 0.4129\n",
      "Epoch [12/100], Train Loss: 0.0037, Train Accuracy: 1.0000, Validation Loss: 0.9605, Validation Accuracy: 0.4060\n",
      "Epoch [13/100], Train Loss: 0.0029, Train Accuracy: 1.0000, Validation Loss: 0.9473, Validation Accuracy: 0.4129\n",
      "Epoch [14/100], Train Loss: 0.0026, Train Accuracy: 1.0000, Validation Loss: 0.9491, Validation Accuracy: 0.4223\n",
      "Epoch [15/100], Train Loss: 0.0026, Train Accuracy: 1.0000, Validation Loss: 0.9483, Validation Accuracy: 0.4132\n",
      "Epoch [16/100], Train Loss: 0.0022, Train Accuracy: 1.0000, Validation Loss: 0.9477, Validation Accuracy: 0.4058\n",
      "Epoch [17/100], Train Loss: 0.0021, Train Accuracy: 1.0000, Validation Loss: 0.9382, Validation Accuracy: 0.4140\n",
      "Epoch [18/100], Train Loss: 0.0021, Train Accuracy: 1.0000, Validation Loss: 0.9344, Validation Accuracy: 0.4219\n",
      "Epoch [19/100], Train Loss: 0.0019, Train Accuracy: 1.0000, Validation Loss: 0.9286, Validation Accuracy: 0.4167\n",
      "Epoch [20/100], Train Loss: 0.0017, Train Accuracy: 1.0000, Validation Loss: 0.9302, Validation Accuracy: 0.4106\n",
      "Epoch [21/100], Train Loss: 0.0018, Train Accuracy: 1.0000, Validation Loss: 0.9296, Validation Accuracy: 0.4056\n",
      "Epoch [22/100], Train Loss: 0.0016, Train Accuracy: 1.0000, Validation Loss: 0.9228, Validation Accuracy: 0.4200\n",
      "Epoch [23/100], Train Loss: 0.0015, Train Accuracy: 1.0000, Validation Loss: 0.9158, Validation Accuracy: 0.4182\n",
      "Epoch [24/100], Train Loss: 0.0014, Train Accuracy: 1.0000, Validation Loss: 0.9151, Validation Accuracy: 0.4126\n",
      "Epoch [25/100], Train Loss: 0.0013, Train Accuracy: 1.0000, Validation Loss: 0.9172, Validation Accuracy: 0.4190\n",
      "Epoch [26/100], Train Loss: 0.0013, Train Accuracy: 1.0000, Validation Loss: 0.9173, Validation Accuracy: 0.4206\n",
      "Epoch [27/100], Train Loss: 0.0013, Train Accuracy: 1.0000, Validation Loss: 0.9148, Validation Accuracy: 0.4244\n",
      "Epoch [28/100], Train Loss: 0.0013, Train Accuracy: 1.0000, Validation Loss: 0.9065, Validation Accuracy: 0.4177\n",
      "Epoch [29/100], Train Loss: 0.0011, Train Accuracy: 1.0000, Validation Loss: 0.9100, Validation Accuracy: 0.4151\n",
      "Epoch [30/100], Train Loss: 0.0011, Train Accuracy: 1.0000, Validation Loss: 0.9048, Validation Accuracy: 0.4098\n",
      "Epoch [31/100], Train Loss: 0.0009, Train Accuracy: 1.0000, Validation Loss: 0.9049, Validation Accuracy: 0.4143\n",
      "Epoch [32/100], Train Loss: 0.0009, Train Accuracy: 1.0000, Validation Loss: 0.9015, Validation Accuracy: 0.4123\n",
      "Epoch [33/100], Train Loss: 0.0009, Train Accuracy: 1.0000, Validation Loss: 0.9042, Validation Accuracy: 0.4130\n",
      "Epoch [34/100], Train Loss: 0.0009, Train Accuracy: 1.0000, Validation Loss: 0.9009, Validation Accuracy: 0.4161\n",
      "Epoch [35/100], Train Loss: 0.0008, Train Accuracy: 1.0000, Validation Loss: 0.8977, Validation Accuracy: 0.4142\n",
      "Epoch [36/100], Train Loss: 0.0008, Train Accuracy: 1.0000, Validation Loss: 0.8987, Validation Accuracy: 0.4257\n",
      "Epoch [37/100], Train Loss: 0.0009, Train Accuracy: 1.0000, Validation Loss: 0.8989, Validation Accuracy: 0.4366\n",
      "Epoch [38/100], Train Loss: 0.0008, Train Accuracy: 1.0000, Validation Loss: 0.9019, Validation Accuracy: 0.4204\n",
      "Epoch [39/100], Train Loss: 0.0007, Train Accuracy: 1.0000, Validation Loss: 0.8930, Validation Accuracy: 0.4318\n",
      "Epoch [40/100], Train Loss: 0.0008, Train Accuracy: 1.0000, Validation Loss: 0.8913, Validation Accuracy: 0.4275\n",
      "Epoch [41/100], Train Loss: 0.0007, Train Accuracy: 1.0000, Validation Loss: 0.8895, Validation Accuracy: 0.4228\n",
      "Epoch [42/100], Train Loss: 0.0007, Train Accuracy: 1.0000, Validation Loss: 0.8826, Validation Accuracy: 0.4269\n",
      "Epoch [43/100], Train Loss: 0.0007, Train Accuracy: 1.0000, Validation Loss: 0.8852, Validation Accuracy: 0.4247\n",
      "Epoch [44/100], Train Loss: 0.0006, Train Accuracy: 1.0000, Validation Loss: 0.8859, Validation Accuracy: 0.4418\n",
      "Epoch [45/100], Train Loss: 0.0006, Train Accuracy: 1.0000, Validation Loss: 0.8838, Validation Accuracy: 0.4300\n",
      "Epoch [46/100], Train Loss: 0.0006, Train Accuracy: 1.0000, Validation Loss: 0.8831, Validation Accuracy: 0.4201\n",
      "Epoch [47/100], Train Loss: 0.0006, Train Accuracy: 1.0000, Validation Loss: 0.8838, Validation Accuracy: 0.4302\n",
      "Early stopping...\n"
     ]
    }
   ],
   "source": [
    "train_losses, train_accuracies, val_losses, val_accuracies = train_model(\n",
    "    model, train_loader, val_loader, loss_fn, optimizer, earlystopper, num_epochs=100\n",
    ")"
   ]
  },
  {
   "cell_type": "code",
   "execution_count": 14,
   "metadata": {},
   "outputs": [
    {
     "data": {
      "image/png": "[encoded data removed]",
      "text/plain": [
       "<Figure size 640x480 with 2 Axes>"
      ]
     },
     "metadata": {},
     "output_type": "display_data"
    }
   ],
   "source": [
    "def plot_loss_and_accuracy(train_losses_history, train_accuracies_history, val_losses_history, val_accuracies_history):\n",
    "    fig, (ax1, ax2) = plt.subplots(2, 1)\n",
    "    ax1.plot(train_losses_history, label='Training Loss', color='blue')\n",
    "    ax1.plot(val_losses_history, label='Validation Loss', color='orange')\n",
    "    ax1.set_title('Training and Validation Loss History')\n",
    "    ax1.set_xlabel('Epochs')\n",
    "    ax1.set_ylabel('Loss')\n",
    "    ax1.legend()\n",
    "    ax1.grid()\n",
    "\n",
    "    ax2.plot(train_accuracies_history, label='Training Accuracy', color='blue')\n",
    "    ax2.plot(val_accuracies_history, label='Validation Accuracy', color='orange')\n",
    "    ax2.set_title('Training and Validation Accuracy History')\n",
    "    ax2.set_xlabel('Epochs')\n",
    "    ax2.set_ylabel('Accuracy')\n",
    "    ax2.legend()\n",
    "    ax2.grid()\n",
    "\n",
    "    plt.tight_layout() \n",
    "    plt.show()\n",
    "\n",
    "    \n",
    "plot_loss_and_accuracy(train_losses, train_accuracies, val_losses, val_accuracies)"
   ]
  },
  {
   "cell_type": "code",
   "execution_count": 15,
   "metadata": {},
   "outputs": [
    {
     "name": "stderr",
     "output_type": "stream",
     "text": [
      "c:\\Python312\\Lib\\site-packages\\torchvision\\models\\_utils.py:223: UserWarning: Arguments other than a weight enum or `None` for 'weights' are deprecated since 0.13 and may be removed in the future. The current behavior is equivalent to passing `weights=None`.\n",
      "  warnings.warn(msg)\n",
      "C:\\Users\\Wt200\\AppData\\Local\\Temp\\ipykernel_15240\\3268210794.py:3: FutureWarning: You are using `torch.load` with `weights_only=False` (the current default value), which uses the default pickle module implicitly. It is possible to construct malicious pickle data which will execute arbitrary code during unpickling (See https://github.com/pytorch/pytorch/blob/main/SECURITY.md#untrusted-models for more details). In a future release, the default value for `weights_only` will be flipped to `True`. This limits the functions that could be executed during unpickling. Arbitrary objects will no longer be allowed to be loaded via this mode unless they are explicitly allowlisted by the user via `torch.serialization.add_safe_globals`. We recommend you start setting `weights_only=True` for any use case where you don't have full control of the loaded file. Please open an issue on GitHub for any issues related to this experimental feature.\n",
      "  m.load_state_dict(torch.load('few_shot_model.pth'))\n"
     ]
    }
   ],
   "source": [
    "m = models.resnet18(pretrained=False)  # Set pretrained=True if needed\n",
    "m.fc = torch.nn.Linear(m.fc.in_features, 102)\n",
    "m.load_state_dict(torch.load('few_shot_model.pth'))\n",
    "m.eval()\n",
    "if torch.cuda.is_available():\n",
    "    m = m.to('cuda')\n",
    "def evaluate_model(model, dataloader):\n",
    "    model.eval()  # Set the model to evaluation mode\n",
    "    correct = 0\n",
    "    total = 0\n",
    "    \n",
    "    with torch.no_grad():  # Disable gradient calculation\n",
    "        for images, labels in dataloader:\n",
    "            # Move data to GPU if available\n",
    "            if torch.cuda.is_available():\n",
    "                images, labels = images.to('cuda'), labels.to('cuda')\n",
    "                \n",
    "            outputs = model(images)  # Forward pass\n",
    "            _, predicted = torch.max(outputs, 1)  # Get predicted classes\n",
    "            \n",
    "            total += labels.size(0)  # Increment total count\n",
    "            correct += (predicted == labels).sum().item()  # Increment correct predictions\n",
    "    \n",
    "    accuracy = correct / total  # Calculate accuracy\n",
    "    return accuracy\n",
    "\n",
    "# Call the evaluation function\n",
    "accuracy = evaluate_model(m, test_loader)\n"
   ]
  },
  {
   "cell_type": "code",
   "execution_count": 16,
   "metadata": {},
   "outputs": [
    {
     "data": {
      "text/plain": [
       "0.7528053342006831"
      ]
     },
     "execution_count": 16,
     "metadata": {},
     "output_type": "execute_result"
    }
   ],
   "source": [
    "accuracy"
   ]
  }
 ],
 "metadata": {
  "kernelspec": {
   "display_name": "Python 3",
   "language": "python",
   "name": "python3"
  },
  "language_info": {
   "codemirror_mode": {
    "name": "ipython",
    "version": 3
   },
   "file_extension": ".py",
   "mimetype": "text/x-python",
   "name": "python",
   "nbconvert_exporter": "python",
   "pygments_lexer": "ipython3",
   "version": "3.12.1"
  }
 },
 "nbformat": 4,
 "nbformat_minor": 2
}
