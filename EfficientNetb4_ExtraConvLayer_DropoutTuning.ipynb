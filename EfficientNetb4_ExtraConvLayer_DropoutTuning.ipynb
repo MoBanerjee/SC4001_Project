{
  "cells": [
    {
      "cell_type": "markdown",
      "metadata": {
        "id": "view-in-github",
        "colab_type": "text"
      },
      "source": [
        "<a href=\"https://colab.research.google.com/github/MoBanerjee/SC4001_Project/blob/main/EfficientNetb4_ExtraConvLayer_DropoutTuning.ipynb\" target=\"_parent\"><img src=\"https://colab.research.google.com/assets/colab-badge.svg\" alt=\"Open In Colab\"/></a>"
      ]
    },
    {
      "cell_type": "code",
      "execution_count": null,
      "metadata": {
        "colab": {
          "base_uri": "https://localhost:8080/"
        },
        "id": "m-CvMVCsKSMV",
        "outputId": "5a7837cd-a8f6-4904-9929-aa355fa33e93"
      },
      "outputs": [
        {
          "output_type": "stream",
          "name": "stdout",
          "text": [
            "Collecting efficientnet_pytorch\n",
            "  Downloading efficientnet_pytorch-0.7.1.tar.gz (21 kB)\n",
            "  Preparing metadata (setup.py) ... \u001b[?25l\u001b[?25hdone\n",
            "Requirement already satisfied: torch in /usr/local/lib/python3.10/dist-packages (from efficientnet_pytorch) (2.5.0+cu121)\n",
            "Requirement already satisfied: filelock in /usr/local/lib/python3.10/dist-packages (from torch->efficientnet_pytorch) (3.16.1)\n",
            "Requirement already satisfied: typing-extensions>=4.8.0 in /usr/local/lib/python3.10/dist-packages (from torch->efficientnet_pytorch) (4.12.2)\n",
            "Requirement already satisfied: networkx in /usr/local/lib/python3.10/dist-packages (from torch->efficientnet_pytorch) (3.4.2)\n",
            "Requirement already satisfied: jinja2 in /usr/local/lib/python3.10/dist-packages (from torch->efficientnet_pytorch) (3.1.4)\n",
            "Requirement already satisfied: fsspec in /usr/local/lib/python3.10/dist-packages (from torch->efficientnet_pytorch) (2024.10.0)\n",
            "Requirement already satisfied: sympy==1.13.1 in /usr/local/lib/python3.10/dist-packages (from torch->efficientnet_pytorch) (1.13.1)\n",
            "Requirement already satisfied: mpmath<1.4,>=1.1.0 in /usr/local/lib/python3.10/dist-packages (from sympy==1.13.1->torch->efficientnet_pytorch) (1.3.0)\n",
            "Requirement already satisfied: MarkupSafe>=2.0 in /usr/local/lib/python3.10/dist-packages (from jinja2->torch->efficientnet_pytorch) (3.0.2)\n",
            "Building wheels for collected packages: efficientnet_pytorch\n",
            "  Building wheel for efficientnet_pytorch (setup.py) ... \u001b[?25l\u001b[?25hdone\n",
            "  Created wheel for efficientnet_pytorch: filename=efficientnet_pytorch-0.7.1-py3-none-any.whl size=16424 sha256=7ae2d278aee81e588ed8bf003af818725a8c5d6f07826a43069afcf138705b54\n",
            "  Stored in directory: /root/.cache/pip/wheels/03/3f/e9/911b1bc46869644912bda90a56bcf7b960f20b5187feea3baf\n",
            "Successfully built efficientnet_pytorch\n",
            "Installing collected packages: efficientnet_pytorch\n",
            "Successfully installed efficientnet_pytorch-0.7.1\n"
          ]
        }
      ],
      "source": [
        "!pip install efficientnet_pytorch"
      ]
    },
    {
      "cell_type": "code",
      "execution_count": null,
      "metadata": {
        "id": "pUMSt-_pHguv"
      },
      "outputs": [],
      "source": [
        "import torch\n",
        "import torchvision\n",
        "import torchvision.transforms as transforms\n",
        "from torch.utils.data import DataLoader, random_split\n",
        "import torch.nn as nn\n",
        "import torch.optim as optim\n",
        "from efficientnet_pytorch import EfficientNet\n",
        "from torch.cuda.amp import autocast, GradScaler"
      ]
    },
    {
      "cell_type": "code",
      "execution_count": null,
      "metadata": {
        "id": "fWIYTTnrHq8k"
      },
      "outputs": [],
      "source": [
        "transform = transforms.Compose([\n",
        "    transforms.Resize((224, 224)),\n",
        "    transforms.ToTensor(),\n",
        "    transforms.Normalize(mean=[0.485, 0.456, 0.406], std=[0.229, 0.224, 0.225]),\n",
        "])"
      ]
    },
    {
      "cell_type": "code",
      "execution_count": null,
      "metadata": {
        "id": "pG0dbN5xHuhm",
        "colab": {
          "base_uri": "https://localhost:8080/"
        },
        "outputId": "ff197006-b93f-4cc5-fd2d-f6fd191502e4"
      },
      "outputs": [
        {
          "output_type": "stream",
          "name": "stdout",
          "text": [
            "Downloading https://thor.robots.ox.ac.uk/flowers/102/102flowers.tgz to data/flowers-102/102flowers.tgz\n"
          ]
        },
        {
          "output_type": "stream",
          "name": "stderr",
          "text": [
            "100%|██████████| 345M/345M [00:10<00:00, 33.0MB/s]\n"
          ]
        },
        {
          "output_type": "stream",
          "name": "stdout",
          "text": [
            "Extracting data/flowers-102/102flowers.tgz to data/flowers-102\n",
            "Downloading https://thor.robots.ox.ac.uk/flowers/102/imagelabels.mat to data/flowers-102/imagelabels.mat\n"
          ]
        },
        {
          "output_type": "stream",
          "name": "stderr",
          "text": [
            "100%|██████████| 502/502 [00:00<00:00, 751kB/s]\n"
          ]
        },
        {
          "output_type": "stream",
          "name": "stdout",
          "text": [
            "Downloading https://thor.robots.ox.ac.uk/flowers/102/setid.mat to data/flowers-102/setid.mat\n"
          ]
        },
        {
          "output_type": "stream",
          "name": "stderr",
          "text": [
            "100%|██████████| 15.0k/15.0k [00:00<00:00, 19.9MB/s]\n"
          ]
        }
      ],
      "source": [
        "train_data = torchvision.datasets.Flowers102(root='./data', split='train', transform=transform, download=True)\n",
        "val_data = torchvision.datasets.Flowers102(root='./data', split='val', transform=transform, download=True)\n",
        "test_data = torchvision.datasets.Flowers102(root='./data', split='test', transform=transform, download=True)"
      ]
    },
    {
      "cell_type": "code",
      "execution_count": null,
      "metadata": {
        "id": "gJ66RrxqHwTJ"
      },
      "outputs": [],
      "source": [
        "train_loader = DataLoader(train_data, batch_size=32, shuffle=True)\n",
        "val_loader = DataLoader(val_data, batch_size=32, shuffle=False)\n",
        "test_loader = DataLoader(test_data, batch_size=32, shuffle=False)"
      ]
    },
    {
      "cell_type": "code",
      "execution_count": null,
      "metadata": {
        "id": "g5CX92kHHyLX"
      },
      "outputs": [],
      "source": [
        "class CustomEfficientNet(nn.Module):\n",
        "    def __init__(self, dropout_extra_conv=0.3, dropout_classifier=0.3):\n",
        "        super(CustomEfficientNet, self).__init__()\n",
        "        self.base_model = EfficientNet.from_pretrained('efficientnet-b4')\n",
        "\n",
        "\n",
        "        self.extra_conv = nn.Sequential(\n",
        "            nn.Conv2d(1792, 2048, kernel_size=3, padding=1),\n",
        "            nn.BatchNorm2d(2048),\n",
        "            nn.ReLU(),\n",
        "            nn.Conv2d(2048, 2048, kernel_size=3, padding=1),\n",
        "            nn.BatchNorm2d(2048),\n",
        "            nn.ReLU(),\n",
        "            nn.Dropout(dropout_extra_conv)\n",
        "        )\n",
        "\n",
        "\n",
        "        num_ftrs = 2048\n",
        "        self.classifier = nn.Sequential(\n",
        "            nn.AdaptiveAvgPool2d((1, 1)),\n",
        "            nn.Flatten(),\n",
        "            nn.Linear(num_ftrs, 512),\n",
        "            nn.ReLU(),\n",
        "            nn.Dropout(dropout_classifier),\n",
        "            nn.Linear(512, 102)\n",
        "        )\n",
        "\n",
        "    def forward(self, x):\n",
        "        x = self.base_model.extract_features(x)\n",
        "        x = self.extra_conv(x)\n",
        "        x = self.classifier(x)\n",
        "        return x\n"
      ]
    },
    {
      "cell_type": "code",
      "execution_count": null,
      "metadata": {
        "id": "CbTAkwTOID-K"
      },
      "outputs": [],
      "source": [
        "device = torch.device(\"cuda\" if torch.cuda.is_available() else \"cpu\")"
      ]
    },
    {
      "cell_type": "code",
      "execution_count": null,
      "metadata": {
        "colab": {
          "base_uri": "https://localhost:8080/"
        },
        "id": "lBhOXVnDSjcc",
        "outputId": "e92cb281-6c8a-4378-95c0-3a38156911f4"
      },
      "outputs": [
        {
          "output_type": "stream",
          "name": "stderr",
          "text": [
            "<ipython-input-8-9f6a838c5572>:1: FutureWarning: `torch.cuda.amp.GradScaler(args...)` is deprecated. Please use `torch.amp.GradScaler('cuda', args...)` instead.\n",
            "  scaler = GradScaler()\n"
          ]
        }
      ],
      "source": [
        "scaler = GradScaler()"
      ]
    },
    {
      "cell_type": "code",
      "execution_count": null,
      "metadata": {
        "id": "VQPbd17XkTsH"
      },
      "outputs": [],
      "source": [
        "def train_model(model, dataloader, criterion, optimizer, device):\n",
        "    model.train()\n",
        "    running_loss = 0.0\n",
        "    correct = 0\n",
        "    total = 0\n",
        "    for inputs, labels in dataloader:\n",
        "        inputs, labels = inputs.to(device), labels.to(device)\n",
        "\n",
        "        optimizer.zero_grad()\n",
        "\n",
        "\n",
        "        with autocast():\n",
        "            outputs = model(inputs)\n",
        "            loss = criterion(outputs, labels)\n",
        "\n",
        "\n",
        "        scaler.scale(loss).backward()\n",
        "        scaler.step(optimizer)\n",
        "        scaler.update()\n",
        "\n",
        "        running_loss += loss.item()\n",
        "        _, predicted = torch.max(outputs, 1)\n",
        "        total += labels.size(0)\n",
        "        correct += (predicted == labels).sum().item()\n",
        "    return running_loss / len(dataloader), correct / total"
      ]
    },
    {
      "cell_type": "code",
      "execution_count": null,
      "metadata": {
        "id": "PY9cSjb9IKJo"
      },
      "outputs": [],
      "source": [
        "\n",
        "def validate_model(model, dataloader, criterion, device):\n",
        "    model.eval()\n",
        "    running_loss = 0.0\n",
        "    correct = 0\n",
        "    total = 0\n",
        "    with torch.no_grad():\n",
        "        for inputs, labels in dataloader:\n",
        "            inputs, labels = inputs.to(device), labels.to(device)\n",
        "            outputs = model(inputs)\n",
        "            loss = criterion(outputs, labels)\n",
        "            running_loss += loss.item()\n",
        "            _, predicted = torch.max(outputs, 1)\n",
        "            total += labels.size(0)\n",
        "            correct += (predicted == labels).sum().item()\n",
        "    return running_loss / len(dataloader), correct / total"
      ]
    },
    {
      "cell_type": "code",
      "execution_count": null,
      "metadata": {
        "id": "sMIhZHJHIWKv"
      },
      "outputs": [],
      "source": [
        "def test_model(model, dataloader, device):\n",
        "    model.eval()\n",
        "    correct = 0\n",
        "    total = 0\n",
        "    with torch.no_grad():\n",
        "        for inputs, labels in dataloader:\n",
        "            inputs, labels = inputs.to(device), labels.to(device)\n",
        "            outputs = model(inputs)\n",
        "            _, predicted = torch.max(outputs, 1)\n",
        "            total += labels.size(0)\n",
        "            correct += (predicted == labels).sum().item()\n",
        "    return correct / total"
      ]
    },
    {
      "cell_type": "code",
      "execution_count": null,
      "metadata": {
        "colab": {
          "base_uri": "https://localhost:8080/"
        },
        "id": "IQUAERhPIXkW",
        "outputId": "e81e574b-6d27-45ad-c339-c44e5eb760e9"
      },
      "outputs": [
        {
          "output_type": "stream",
          "name": "stdout",
          "text": [
            "Tuning dropout: extra_conv=0, classifier=0\n"
          ]
        },
        {
          "output_type": "stream",
          "name": "stderr",
          "text": [
            "Downloading: \"https://github.com/lukemelas/EfficientNet-PyTorch/releases/download/1.0/efficientnet-b4-6ed6700e.pth\" to /root/.cache/torch/hub/checkpoints/efficientnet-b4-6ed6700e.pth\n",
            "100%|██████████| 74.4M/74.4M [00:00<00:00, 183MB/s]\n"
          ]
        },
        {
          "output_type": "stream",
          "name": "stdout",
          "text": [
            "Loaded pretrained weights for efficientnet-b4\n"
          ]
        },
        {
          "output_type": "stream",
          "name": "stderr",
          "text": [
            "<ipython-input-9-de5e9a8c4504>:12: FutureWarning: `torch.cuda.amp.autocast(args...)` is deprecated. Please use `torch.amp.autocast('cuda', args...)` instead.\n",
            "  with autocast():\n"
          ]
        },
        {
          "output_type": "stream",
          "name": "stdout",
          "text": [
            "Epoch [1/100], Train Loss: 4.4269, Train Accuracy: 0.0559, Validation Loss: 4.6410, Validation Accuracy: 0.0490\n",
            "Epoch [2/100], Train Loss: 3.2409, Train Accuracy: 0.1892, Validation Loss: 3.4498, Validation Accuracy: 0.2196\n",
            "Epoch [3/100], Train Loss: 2.2548, Train Accuracy: 0.3882, Validation Loss: 3.0555, Validation Accuracy: 0.3069\n",
            "Epoch [4/100], Train Loss: 1.5446, Train Accuracy: 0.5363, Validation Loss: 2.4997, Validation Accuracy: 0.4549\n",
            "Epoch [5/100], Train Loss: 1.1555, Train Accuracy: 0.6578, Validation Loss: 2.4834, Validation Accuracy: 0.4490\n",
            "Epoch [6/100], Train Loss: 0.9422, Train Accuracy: 0.7304, Validation Loss: 2.3720, Validation Accuracy: 0.5167\n",
            "Epoch [7/100], Train Loss: 0.7528, Train Accuracy: 0.7784, Validation Loss: 1.5213, Validation Accuracy: 0.6490\n",
            "Epoch [8/100], Train Loss: 0.5654, Train Accuracy: 0.8294, Validation Loss: 1.6994, Validation Accuracy: 0.6284\n",
            "Epoch [9/100], Train Loss: 0.4331, Train Accuracy: 0.8647, Validation Loss: 1.6652, Validation Accuracy: 0.6598\n",
            "Epoch [10/100], Train Loss: 0.3708, Train Accuracy: 0.8892, Validation Loss: 1.9643, Validation Accuracy: 0.6059\n",
            "Epoch [11/100], Train Loss: 0.3262, Train Accuracy: 0.9029, Validation Loss: 2.1287, Validation Accuracy: 0.6275\n",
            "Epoch [12/100], Train Loss: 0.3268, Train Accuracy: 0.9020, Validation Loss: 1.4259, Validation Accuracy: 0.6922\n",
            "Epoch [13/100], Train Loss: 0.2815, Train Accuracy: 0.9176, Validation Loss: 1.7668, Validation Accuracy: 0.6824\n",
            "Epoch [14/100], Train Loss: 0.3407, Train Accuracy: 0.9059, Validation Loss: 1.7921, Validation Accuracy: 0.6471\n",
            "Epoch [15/100], Train Loss: 0.3519, Train Accuracy: 0.8951, Validation Loss: 1.7577, Validation Accuracy: 0.6716\n",
            "Epoch [16/100], Train Loss: 0.3556, Train Accuracy: 0.9078, Validation Loss: 2.3506, Validation Accuracy: 0.5931\n",
            "Epoch [17/100], Train Loss: 0.3057, Train Accuracy: 0.9147, Validation Loss: 1.5908, Validation Accuracy: 0.6922\n",
            "Early stopping at epoch 17. No improvement in validation accuracy for 5 consecutive epochs.\n",
            "Tuning dropout: extra_conv=0.1, classifier=0.1\n",
            "Loaded pretrained weights for efficientnet-b4\n",
            "Epoch [1/100], Train Loss: 4.5262, Train Accuracy: 0.0422, Validation Loss: 4.0852, Validation Accuracy: 0.1020\n",
            "Epoch [2/100], Train Loss: 3.4852, Train Accuracy: 0.1559, Validation Loss: 3.3446, Validation Accuracy: 0.1863\n",
            "Epoch [3/100], Train Loss: 2.3339, Train Accuracy: 0.3392, Validation Loss: 2.8643, Validation Accuracy: 0.3196\n",
            "Epoch [4/100], Train Loss: 1.8245, Train Accuracy: 0.4657, Validation Loss: 2.3155, Validation Accuracy: 0.4343\n",
            "Epoch [5/100], Train Loss: 1.3019, Train Accuracy: 0.5971, Validation Loss: 2.5219, Validation Accuracy: 0.4225\n",
            "Epoch [6/100], Train Loss: 1.0889, Train Accuracy: 0.6451, Validation Loss: 2.3133, Validation Accuracy: 0.4716\n",
            "Epoch [7/100], Train Loss: 0.8494, Train Accuracy: 0.7422, Validation Loss: 2.3509, Validation Accuracy: 0.5343\n",
            "Epoch [8/100], Train Loss: 0.6872, Train Accuracy: 0.7892, Validation Loss: 2.1539, Validation Accuracy: 0.5578\n",
            "Epoch [9/100], Train Loss: 0.5894, Train Accuracy: 0.8255, Validation Loss: 1.7392, Validation Accuracy: 0.6324\n",
            "Epoch [10/100], Train Loss: 0.5693, Train Accuracy: 0.8333, Validation Loss: 1.8554, Validation Accuracy: 0.6157\n",
            "Epoch [11/100], Train Loss: 0.4356, Train Accuracy: 0.8735, Validation Loss: 1.6785, Validation Accuracy: 0.6206\n",
            "Epoch [12/100], Train Loss: 0.4404, Train Accuracy: 0.8716, Validation Loss: 1.3083, Validation Accuracy: 0.7127\n",
            "Epoch [13/100], Train Loss: 0.3560, Train Accuracy: 0.8961, Validation Loss: 1.1124, Validation Accuracy: 0.7510\n",
            "Epoch [14/100], Train Loss: 0.2694, Train Accuracy: 0.9284, Validation Loss: 1.4731, Validation Accuracy: 0.7010\n",
            "Epoch [15/100], Train Loss: 0.2840, Train Accuracy: 0.9245, Validation Loss: 1.5538, Validation Accuracy: 0.6892\n",
            "Epoch [16/100], Train Loss: 0.4007, Train Accuracy: 0.8873, Validation Loss: 1.4229, Validation Accuracy: 0.6794\n",
            "Epoch [17/100], Train Loss: 0.2799, Train Accuracy: 0.9265, Validation Loss: 1.4087, Validation Accuracy: 0.7029\n",
            "Epoch [18/100], Train Loss: 0.2240, Train Accuracy: 0.9363, Validation Loss: 1.1345, Validation Accuracy: 0.7225\n",
            "Early stopping at epoch 18. No improvement in validation accuracy for 5 consecutive epochs.\n",
            "Tuning dropout: extra_conv=0.2, classifier=0.2\n",
            "Loaded pretrained weights for efficientnet-b4\n",
            "Epoch [1/100], Train Loss: 4.6134, Train Accuracy: 0.0294, Validation Loss: 4.2698, Validation Accuracy: 0.0588\n",
            "Epoch [2/100], Train Loss: 3.7420, Train Accuracy: 0.1039, Validation Loss: 4.0720, Validation Accuracy: 0.1255\n",
            "Epoch [3/100], Train Loss: 2.8945, Train Accuracy: 0.2137, Validation Loss: 3.1688, Validation Accuracy: 0.2598\n",
            "Epoch [4/100], Train Loss: 2.1046, Train Accuracy: 0.4000, Validation Loss: 2.3388, Validation Accuracy: 0.3922\n",
            "Epoch [5/100], Train Loss: 1.6504, Train Accuracy: 0.5029, Validation Loss: 2.4922, Validation Accuracy: 0.3922\n",
            "Epoch [6/100], Train Loss: 1.4244, Train Accuracy: 0.5676, Validation Loss: 3.2246, Validation Accuracy: 0.3216\n",
            "Epoch [7/100], Train Loss: 1.1841, Train Accuracy: 0.6324, Validation Loss: 2.2528, Validation Accuracy: 0.4784\n",
            "Epoch [8/100], Train Loss: 1.0206, Train Accuracy: 0.6941, Validation Loss: 2.1428, Validation Accuracy: 0.5186\n",
            "Epoch [9/100], Train Loss: 0.8666, Train Accuracy: 0.7490, Validation Loss: 1.7144, Validation Accuracy: 0.6206\n",
            "Epoch [10/100], Train Loss: 0.6710, Train Accuracy: 0.7971, Validation Loss: 1.6457, Validation Accuracy: 0.6196\n",
            "Epoch [11/100], Train Loss: 0.6072, Train Accuracy: 0.8304, Validation Loss: 2.0494, Validation Accuracy: 0.6098\n",
            "Epoch [12/100], Train Loss: 0.4780, Train Accuracy: 0.8608, Validation Loss: 1.3789, Validation Accuracy: 0.6745\n",
            "Epoch [13/100], Train Loss: 0.4690, Train Accuracy: 0.8686, Validation Loss: 1.5257, Validation Accuracy: 0.6667\n",
            "Epoch [14/100], Train Loss: 0.3998, Train Accuracy: 0.8892, Validation Loss: 1.2981, Validation Accuracy: 0.7382\n",
            "Epoch [15/100], Train Loss: 0.3399, Train Accuracy: 0.9167, Validation Loss: 1.3421, Validation Accuracy: 0.7265\n",
            "Epoch [16/100], Train Loss: 0.4161, Train Accuracy: 0.8686, Validation Loss: 1.2520, Validation Accuracy: 0.7275\n",
            "Epoch [17/100], Train Loss: 0.3286, Train Accuracy: 0.9069, Validation Loss: 1.5914, Validation Accuracy: 0.6794\n",
            "Epoch [18/100], Train Loss: 0.3504, Train Accuracy: 0.8892, Validation Loss: 1.3290, Validation Accuracy: 0.7216\n",
            "Epoch [19/100], Train Loss: 0.3428, Train Accuracy: 0.9118, Validation Loss: 1.2113, Validation Accuracy: 0.7598\n",
            "Epoch [20/100], Train Loss: 0.3137, Train Accuracy: 0.9186, Validation Loss: 1.1678, Validation Accuracy: 0.7392\n",
            "Epoch [21/100], Train Loss: 0.2697, Train Accuracy: 0.9275, Validation Loss: 1.3977, Validation Accuracy: 0.7225\n",
            "Epoch [22/100], Train Loss: 0.1895, Train Accuracy: 0.9441, Validation Loss: 1.6280, Validation Accuracy: 0.7176\n",
            "Epoch [23/100], Train Loss: 0.1709, Train Accuracy: 0.9490, Validation Loss: 1.0546, Validation Accuracy: 0.7882\n",
            "Epoch [24/100], Train Loss: 0.2135, Train Accuracy: 0.9520, Validation Loss: 1.1764, Validation Accuracy: 0.7588\n",
            "Epoch [25/100], Train Loss: 0.2235, Train Accuracy: 0.9314, Validation Loss: 1.0608, Validation Accuracy: 0.7873\n",
            "Epoch [26/100], Train Loss: 0.2800, Train Accuracy: 0.9275, Validation Loss: 1.2695, Validation Accuracy: 0.7392\n",
            "Epoch [27/100], Train Loss: 0.3005, Train Accuracy: 0.9265, Validation Loss: 1.5023, Validation Accuracy: 0.7029\n",
            "Epoch [28/100], Train Loss: 0.2494, Train Accuracy: 0.9255, Validation Loss: 1.5626, Validation Accuracy: 0.6873\n",
            "Early stopping at epoch 28. No improvement in validation accuracy for 5 consecutive epochs.\n",
            "Tuning dropout: extra_conv=0.3, classifier=0.3\n",
            "Loaded pretrained weights for efficientnet-b4\n",
            "Epoch [1/100], Train Loss: 4.5951, Train Accuracy: 0.0441, Validation Loss: 4.2654, Validation Accuracy: 0.0716\n",
            "Epoch [2/100], Train Loss: 3.7020, Train Accuracy: 0.1353, Validation Loss: 3.3239, Validation Accuracy: 0.1941\n",
            "Epoch [3/100], Train Loss: 2.7830, Train Accuracy: 0.2676, Validation Loss: 2.7779, Validation Accuracy: 0.3010\n",
            "Epoch [4/100], Train Loss: 2.1662, Train Accuracy: 0.4059, Validation Loss: 3.0886, Validation Accuracy: 0.3637\n",
            "Epoch [5/100], Train Loss: 1.6865, Train Accuracy: 0.5078, Validation Loss: 2.1204, Validation Accuracy: 0.4902\n",
            "Epoch [6/100], Train Loss: 1.3165, Train Accuracy: 0.6255, Validation Loss: 2.5508, Validation Accuracy: 0.4588\n",
            "Epoch [7/100], Train Loss: 1.0930, Train Accuracy: 0.6775, Validation Loss: 2.3985, Validation Accuracy: 0.4961\n",
            "Epoch [8/100], Train Loss: 0.9659, Train Accuracy: 0.7118, Validation Loss: 2.2686, Validation Accuracy: 0.5088\n",
            "Epoch [9/100], Train Loss: 0.7961, Train Accuracy: 0.7755, Validation Loss: 2.0434, Validation Accuracy: 0.5902\n",
            "Epoch [10/100], Train Loss: 0.6475, Train Accuracy: 0.8137, Validation Loss: 1.6845, Validation Accuracy: 0.6333\n",
            "Epoch [11/100], Train Loss: 0.5350, Train Accuracy: 0.8441, Validation Loss: 1.5573, Validation Accuracy: 0.6912\n",
            "Epoch [12/100], Train Loss: 0.4190, Train Accuracy: 0.8755, Validation Loss: 1.3825, Validation Accuracy: 0.7206\n",
            "Epoch [13/100], Train Loss: 0.4343, Train Accuracy: 0.8725, Validation Loss: 2.5566, Validation Accuracy: 0.6147\n",
            "Epoch [14/100], Train Loss: 0.4783, Train Accuracy: 0.8725, Validation Loss: 1.8950, Validation Accuracy: 0.6627\n",
            "Epoch [15/100], Train Loss: 0.4852, Train Accuracy: 0.8716, Validation Loss: 1.7660, Validation Accuracy: 0.6412\n",
            "Epoch [16/100], Train Loss: 0.3915, Train Accuracy: 0.8873, Validation Loss: 1.7120, Validation Accuracy: 0.6765\n",
            "Epoch [17/100], Train Loss: 0.2378, Train Accuracy: 0.9382, Validation Loss: 1.1923, Validation Accuracy: 0.7657\n",
            "Epoch [18/100], Train Loss: 0.2259, Train Accuracy: 0.9402, Validation Loss: 1.2897, Validation Accuracy: 0.7529\n",
            "Epoch [19/100], Train Loss: 0.2442, Train Accuracy: 0.9304, Validation Loss: 1.5657, Validation Accuracy: 0.7304\n",
            "Epoch [20/100], Train Loss: 0.2557, Train Accuracy: 0.9225, Validation Loss: 1.2458, Validation Accuracy: 0.7480\n",
            "Epoch [21/100], Train Loss: 0.2409, Train Accuracy: 0.9314, Validation Loss: 1.2424, Validation Accuracy: 0.7667\n",
            "Epoch [22/100], Train Loss: 0.3442, Train Accuracy: 0.9098, Validation Loss: 1.3840, Validation Accuracy: 0.7314\n",
            "Epoch [23/100], Train Loss: 0.2770, Train Accuracy: 0.9363, Validation Loss: 1.0997, Validation Accuracy: 0.7745\n",
            "Epoch [24/100], Train Loss: 0.2046, Train Accuracy: 0.9461, Validation Loss: 1.0513, Validation Accuracy: 0.7735\n",
            "Epoch [25/100], Train Loss: 0.2037, Train Accuracy: 0.9471, Validation Loss: 1.1788, Validation Accuracy: 0.7735\n",
            "Epoch [26/100], Train Loss: 0.1521, Train Accuracy: 0.9627, Validation Loss: 0.9629, Validation Accuracy: 0.8020\n",
            "Epoch [27/100], Train Loss: 0.1268, Train Accuracy: 0.9667, Validation Loss: 1.1088, Validation Accuracy: 0.7990\n",
            "Epoch [28/100], Train Loss: 0.1975, Train Accuracy: 0.9520, Validation Loss: 1.3307, Validation Accuracy: 0.7549\n",
            "Epoch [29/100], Train Loss: 0.1846, Train Accuracy: 0.9618, Validation Loss: 1.1237, Validation Accuracy: 0.7824\n",
            "Epoch [30/100], Train Loss: 0.1560, Train Accuracy: 0.9598, Validation Loss: 1.0988, Validation Accuracy: 0.7784\n",
            "Epoch [31/100], Train Loss: 0.1901, Train Accuracy: 0.9539, Validation Loss: 1.3316, Validation Accuracy: 0.7588\n",
            "Early stopping at epoch 31. No improvement in validation accuracy for 5 consecutive epochs.\n",
            "Tuning dropout: extra_conv=0.4, classifier=0.4\n",
            "Loaded pretrained weights for efficientnet-b4\n",
            "Epoch [1/100], Train Loss: 4.6363, Train Accuracy: 0.0314, Validation Loss: 4.1172, Validation Accuracy: 0.0588\n",
            "Epoch [2/100], Train Loss: 3.8803, Train Accuracy: 0.0931, Validation Loss: 3.3016, Validation Accuracy: 0.2245\n",
            "Epoch [3/100], Train Loss: 3.0674, Train Accuracy: 0.1912, Validation Loss: 4.1416, Validation Accuracy: 0.1637\n",
            "Epoch [4/100], Train Loss: 2.5694, Train Accuracy: 0.2922, Validation Loss: 3.1040, Validation Accuracy: 0.2843\n",
            "Epoch [5/100], Train Loss: 2.0901, Train Accuracy: 0.3902, Validation Loss: 2.8385, Validation Accuracy: 0.3647\n",
            "Epoch [6/100], Train Loss: 1.7230, Train Accuracy: 0.4892, Validation Loss: 1.9811, Validation Accuracy: 0.4971\n",
            "Epoch [7/100], Train Loss: 1.4404, Train Accuracy: 0.5706, Validation Loss: 2.1369, Validation Accuracy: 0.5078\n",
            "Epoch [8/100], Train Loss: 1.2206, Train Accuracy: 0.6324, Validation Loss: 1.7430, Validation Accuracy: 0.5745\n",
            "Epoch [9/100], Train Loss: 0.9713, Train Accuracy: 0.7108, Validation Loss: 1.8230, Validation Accuracy: 0.5735\n",
            "Epoch [10/100], Train Loss: 0.9200, Train Accuracy: 0.7284, Validation Loss: 1.5788, Validation Accuracy: 0.6373\n",
            "Epoch [11/100], Train Loss: 0.7493, Train Accuracy: 0.7922, Validation Loss: 1.8041, Validation Accuracy: 0.6127\n",
            "Epoch [12/100], Train Loss: 0.7393, Train Accuracy: 0.7765, Validation Loss: 1.7424, Validation Accuracy: 0.6304\n",
            "Epoch [13/100], Train Loss: 0.6311, Train Accuracy: 0.8196, Validation Loss: 1.7783, Validation Accuracy: 0.6147\n",
            "Epoch [14/100], Train Loss: 0.6092, Train Accuracy: 0.8353, Validation Loss: 2.0050, Validation Accuracy: 0.6176\n",
            "Epoch [15/100], Train Loss: 0.5153, Train Accuracy: 0.8618, Validation Loss: 1.0816, Validation Accuracy: 0.7392\n",
            "Epoch [16/100], Train Loss: 0.3773, Train Accuracy: 0.8922, Validation Loss: 1.2399, Validation Accuracy: 0.7255\n",
            "Epoch [17/100], Train Loss: 0.4061, Train Accuracy: 0.8765, Validation Loss: 1.2859, Validation Accuracy: 0.7225\n",
            "Epoch [18/100], Train Loss: 0.3452, Train Accuracy: 0.9059, Validation Loss: 1.2926, Validation Accuracy: 0.7363\n",
            "Epoch [19/100], Train Loss: 0.3998, Train Accuracy: 0.8882, Validation Loss: 1.4047, Validation Accuracy: 0.7245\n",
            "Epoch [20/100], Train Loss: 0.3982, Train Accuracy: 0.8892, Validation Loss: 1.6215, Validation Accuracy: 0.6765\n",
            "Early stopping at epoch 20. No improvement in validation accuracy for 5 consecutive epochs.\n",
            "Tuning dropout: extra_conv=0.5, classifier=0.5\n",
            "Loaded pretrained weights for efficientnet-b4\n",
            "Epoch [1/100], Train Loss: 4.7556, Train Accuracy: 0.0196, Validation Loss: 4.4950, Validation Accuracy: 0.0245\n",
            "Epoch [2/100], Train Loss: 4.5094, Train Accuracy: 0.0216, Validation Loss: 4.2725, Validation Accuracy: 0.0461\n",
            "Epoch [3/100], Train Loss: 4.1686, Train Accuracy: 0.0441, Validation Loss: 4.1279, Validation Accuracy: 0.0657\n",
            "Epoch [4/100], Train Loss: 3.8496, Train Accuracy: 0.0716, Validation Loss: 3.6858, Validation Accuracy: 0.1059\n",
            "Epoch [5/100], Train Loss: 3.4893, Train Accuracy: 0.1029, Validation Loss: 3.4072, Validation Accuracy: 0.1343\n",
            "Epoch [6/100], Train Loss: 3.1622, Train Accuracy: 0.1618, Validation Loss: 3.1139, Validation Accuracy: 0.1882\n",
            "Epoch [7/100], Train Loss: 2.9495, Train Accuracy: 0.1755, Validation Loss: 3.1239, Validation Accuracy: 0.2392\n",
            "Epoch [8/100], Train Loss: 2.6419, Train Accuracy: 0.2490, Validation Loss: 2.8427, Validation Accuracy: 0.2637\n",
            "Epoch [9/100], Train Loss: 2.4123, Train Accuracy: 0.2686, Validation Loss: 3.1997, Validation Accuracy: 0.2922\n",
            "Epoch [10/100], Train Loss: 2.2438, Train Accuracy: 0.3284, Validation Loss: 2.9668, Validation Accuracy: 0.3667\n",
            "Epoch [11/100], Train Loss: 2.0143, Train Accuracy: 0.4000, Validation Loss: 3.1835, Validation Accuracy: 0.3451\n",
            "Epoch [12/100], Train Loss: 1.8640, Train Accuracy: 0.4353, Validation Loss: 2.6126, Validation Accuracy: 0.4245\n",
            "Epoch [13/100], Train Loss: 1.6427, Train Accuracy: 0.4824, Validation Loss: 2.1572, Validation Accuracy: 0.4647\n",
            "Epoch [14/100], Train Loss: 1.5444, Train Accuracy: 0.5088, Validation Loss: 2.0200, Validation Accuracy: 0.4873\n",
            "Epoch [15/100], Train Loss: 1.3825, Train Accuracy: 0.5627, Validation Loss: 2.1438, Validation Accuracy: 0.4784\n",
            "Epoch [16/100], Train Loss: 1.3583, Train Accuracy: 0.5598, Validation Loss: 1.8978, Validation Accuracy: 0.5108\n",
            "Epoch [17/100], Train Loss: 1.3728, Train Accuracy: 0.5833, Validation Loss: 1.9127, Validation Accuracy: 0.5127\n",
            "Epoch [18/100], Train Loss: 1.1779, Train Accuracy: 0.6314, Validation Loss: 1.6509, Validation Accuracy: 0.6039\n",
            "Epoch [19/100], Train Loss: 0.9638, Train Accuracy: 0.7039, Validation Loss: 2.2359, Validation Accuracy: 0.5824\n",
            "Epoch [20/100], Train Loss: 1.0017, Train Accuracy: 0.7088, Validation Loss: 1.5731, Validation Accuracy: 0.6088\n",
            "Epoch [21/100], Train Loss: 0.9333, Train Accuracy: 0.7137, Validation Loss: 1.5316, Validation Accuracy: 0.6373\n",
            "Epoch [22/100], Train Loss: 0.7783, Train Accuracy: 0.7373, Validation Loss: 1.3500, Validation Accuracy: 0.6706\n",
            "Epoch [23/100], Train Loss: 0.6802, Train Accuracy: 0.7892, Validation Loss: 1.2931, Validation Accuracy: 0.7000\n",
            "Epoch [24/100], Train Loss: 0.6942, Train Accuracy: 0.7833, Validation Loss: 1.3184, Validation Accuracy: 0.6833\n",
            "Epoch [25/100], Train Loss: 0.6080, Train Accuracy: 0.8147, Validation Loss: 1.4497, Validation Accuracy: 0.7069\n",
            "Epoch [26/100], Train Loss: 0.4860, Train Accuracy: 0.8373, Validation Loss: 1.2202, Validation Accuracy: 0.7441\n",
            "Epoch [27/100], Train Loss: 0.4346, Train Accuracy: 0.8588, Validation Loss: 1.3252, Validation Accuracy: 0.7049\n",
            "Epoch [28/100], Train Loss: 0.4784, Train Accuracy: 0.8539, Validation Loss: 1.3180, Validation Accuracy: 0.7304\n",
            "Epoch [29/100], Train Loss: 0.4561, Train Accuracy: 0.8588, Validation Loss: 1.2425, Validation Accuracy: 0.7265\n",
            "Epoch [30/100], Train Loss: 0.5130, Train Accuracy: 0.8441, Validation Loss: 1.4042, Validation Accuracy: 0.7078\n",
            "Epoch [31/100], Train Loss: 0.5078, Train Accuracy: 0.8549, Validation Loss: 1.4639, Validation Accuracy: 0.7049\n",
            "Early stopping at epoch 31. No improvement in validation accuracy for 5 consecutive epochs.\n",
            "Best Dropout Configuration: extra_conv=0.3, classifier=0.3\n",
            "Best Validation Accuracy during tuning: 0.8020\n",
            "Loaded pretrained weights for efficientnet-b4\n",
            "Retrain Epoch [1/100], Train Loss: 4.5475, Train Accuracy: 0.0373, Validation Loss: 4.1357, Validation Accuracy: 0.0755\n",
            "Retrain Epoch [2/100], Train Loss: 3.5217, Train Accuracy: 0.1490, Validation Loss: 3.4294, Validation Accuracy: 0.1961\n",
            "Retrain Epoch [3/100], Train Loss: 2.7467, Train Accuracy: 0.2882, Validation Loss: 2.6265, Validation Accuracy: 0.3520\n",
            "Retrain Epoch [4/100], Train Loss: 2.1009, Train Accuracy: 0.3931, Validation Loss: 2.5227, Validation Accuracy: 0.4039\n",
            "Retrain Epoch [5/100], Train Loss: 1.5488, Train Accuracy: 0.5353, Validation Loss: 2.7291, Validation Accuracy: 0.4157\n",
            "Early stopping at epoch 5 during retraining. No improvement in validation accuracy for 5 consecutive epochs.\n"
          ]
        }
      ],
      "source": [
        "dropout_values = [0, 0.1, 0.2, 0.3, 0.4, 0.5]\n",
        "num_epochs = 100\n",
        "patience = 5\n",
        "best_val_acc = 0.0\n",
        "best_model_config = None\n",
        "criterion = nn.CrossEntropyLoss()\n",
        "\n",
        "\n",
        "for dropout_rate in dropout_values:\n",
        "    print(f\"Tuning dropout: extra_conv={dropout_rate}, classifier={dropout_rate}\")\n",
        "\n",
        "\n",
        "    model = CustomEfficientNet(dropout_extra_conv=dropout_rate, dropout_classifier=dropout_rate).to(device)\n",
        "    optimizer = torch.optim.Adam(model.parameters(), lr=0.001)\n",
        "\n",
        "\n",
        "    counter = 0\n",
        "    best_val_acc_current = 0.0\n",
        "\n",
        "    for epoch in range(num_epochs):\n",
        "        train_loss, train_acc = train_model(model, train_loader, criterion, optimizer, device)\n",
        "        val_loss, val_acc = validate_model(model, val_loader, criterion, device)\n",
        "\n",
        "        print(f\"Epoch [{epoch+1}/{num_epochs}], Train Loss: {train_loss:.4f}, Train Accuracy: {train_acc:.4f}, Validation Loss: {val_loss:.4f}, Validation Accuracy: {val_acc:.4f}\")\n",
        "\n",
        "\n",
        "        if val_acc > best_val_acc_current:\n",
        "            best_val_acc_current = val_acc\n",
        "            counter = 0\n",
        "        else:\n",
        "            counter += 1\n",
        "\n",
        "\n",
        "        if counter >= patience:\n",
        "            print(f\"Early stopping at epoch {epoch+1}. No improvement in validation accuracy for {patience} consecutive epochs.\")\n",
        "            break\n",
        "\n",
        "\n",
        "    if best_val_acc_current > best_val_acc:\n",
        "        best_val_acc = best_val_acc_current\n",
        "        best_model_config = dropout_rate\n",
        "\n",
        "\n",
        "print(f\"Best Dropout Configuration: extra_conv={best_model_config}, classifier={best_model_config}\")\n",
        "print(f\"Best Validation Accuracy during tuning: {best_val_acc:.4f}\")\n",
        "\n",
        "\n",
        "best_dropout = best_model_config\n",
        "\n",
        "\n",
        "\n"
      ]
    },
    {
      "cell_type": "code",
      "source": [
        "model = CustomEfficientNet(dropout_extra_conv=best_dropout, dropout_classifier=best_dropout).to(device)\n",
        "optimizer = torch.optim.Adam(model.parameters(), lr=0.001)\n",
        "train_loss_history = []\n",
        "train_acc_history = []\n",
        "val_loss_history = []\n",
        "val_acc_history = []\n",
        "best_val_acc=0.0\n",
        "\n",
        "counter = 0\n",
        "for epoch in range(num_epochs):\n",
        "    train_loss, train_acc = train_model(model, train_loader, criterion, optimizer, device)\n",
        "    val_loss, val_acc = validate_model(model, val_loader, criterion, device)\n",
        "\n",
        "\n",
        "    train_loss_history.append(train_loss)\n",
        "    train_acc_history.append(train_acc)\n",
        "    val_loss_history.append(val_loss)\n",
        "    val_acc_history.append(val_acc)\n",
        "\n",
        "    print(f\"Retrain Epoch [{epoch+1}/{num_epochs}], Train Loss: {train_loss:.4f}, Train Accuracy: {train_acc:.4f}, Validation Loss: {val_loss:.4f}, Validation Accuracy: {val_acc:.4f}\")\n",
        "\n",
        "\n",
        "    if val_acc > best_val_acc:\n",
        "        best_val_acc = val_acc\n",
        "        torch.save(model.state_dict(), 'Best_EfficientNetb4_ExtraConv_DropoutTuned.pth')\n",
        "        counter = 0\n",
        "    else:\n",
        "        counter += 1\n",
        "\n",
        "    if counter >= patience:\n",
        "        print(f\"Early stopping at epoch {epoch+1} during retraining. No improvement in validation accuracy for {patience} consecutive epochs.\")\n",
        "        break\n",
        "\n",
        "\n",
        "final_results = {\n",
        "    \"train_loss\": train_loss_history,\n",
        "    \"train_acc\": train_acc_history,\n",
        "    \"val_loss\": val_loss_history,\n",
        "    \"val_acc\": val_acc_history\n",
        "}"
      ],
      "metadata": {
        "colab": {
          "base_uri": "https://localhost:8080/"
        },
        "id": "SQcyH55ALzEr",
        "outputId": "709c70bc-59bd-4632-fbf1-a181606482ed"
      },
      "execution_count": null,
      "outputs": [
        {
          "output_type": "stream",
          "name": "stdout",
          "text": [
            "Loaded pretrained weights for efficientnet-b4\n"
          ]
        },
        {
          "output_type": "stream",
          "name": "stderr",
          "text": [
            "<ipython-input-9-de5e9a8c4504>:12: FutureWarning: `torch.cuda.amp.autocast(args...)` is deprecated. Please use `torch.amp.autocast('cuda', args...)` instead.\n",
            "  with autocast():\n"
          ]
        },
        {
          "output_type": "stream",
          "name": "stdout",
          "text": [
            "Retrain Epoch [1/100], Train Loss: 4.4851, Train Accuracy: 0.0441, Validation Loss: 3.9043, Validation Accuracy: 0.0902\n",
            "Retrain Epoch [2/100], Train Loss: 3.2870, Train Accuracy: 0.1814, Validation Loss: 3.4124, Validation Accuracy: 0.2078\n",
            "Retrain Epoch [3/100], Train Loss: 2.5111, Train Accuracy: 0.2951, Validation Loss: 3.0681, Validation Accuracy: 0.3127\n",
            "Retrain Epoch [4/100], Train Loss: 1.9015, Train Accuracy: 0.4588, Validation Loss: 3.1298, Validation Accuracy: 0.3069\n",
            "Retrain Epoch [5/100], Train Loss: 1.4811, Train Accuracy: 0.5686, Validation Loss: 1.6785, Validation Accuracy: 0.5539\n",
            "Retrain Epoch [6/100], Train Loss: 1.1434, Train Accuracy: 0.6402, Validation Loss: 1.6112, Validation Accuracy: 0.5853\n",
            "Retrain Epoch [7/100], Train Loss: 0.9075, Train Accuracy: 0.7314, Validation Loss: 2.1415, Validation Accuracy: 0.5431\n",
            "Retrain Epoch [8/100], Train Loss: 0.7436, Train Accuracy: 0.7824, Validation Loss: 1.9487, Validation Accuracy: 0.6108\n",
            "Retrain Epoch [9/100], Train Loss: 0.5843, Train Accuracy: 0.8412, Validation Loss: 1.5116, Validation Accuracy: 0.6569\n",
            "Retrain Epoch [10/100], Train Loss: 0.4799, Train Accuracy: 0.8480, Validation Loss: 1.7244, Validation Accuracy: 0.6412\n",
            "Retrain Epoch [11/100], Train Loss: 0.5576, Train Accuracy: 0.8471, Validation Loss: 1.5203, Validation Accuracy: 0.6520\n",
            "Retrain Epoch [12/100], Train Loss: 0.4678, Train Accuracy: 0.8686, Validation Loss: 1.7472, Validation Accuracy: 0.6578\n",
            "Retrain Epoch [13/100], Train Loss: 0.4161, Train Accuracy: 0.8853, Validation Loss: 1.8682, Validation Accuracy: 0.6598\n",
            "Retrain Epoch [14/100], Train Loss: 0.3824, Train Accuracy: 0.8814, Validation Loss: 1.3295, Validation Accuracy: 0.7314\n",
            "Retrain Epoch [15/100], Train Loss: 0.4002, Train Accuracy: 0.8922, Validation Loss: 2.0368, Validation Accuracy: 0.6363\n",
            "Retrain Epoch [16/100], Train Loss: 0.3331, Train Accuracy: 0.9147, Validation Loss: 1.5994, Validation Accuracy: 0.6971\n",
            "Retrain Epoch [17/100], Train Loss: 0.2744, Train Accuracy: 0.9265, Validation Loss: 1.4411, Validation Accuracy: 0.7049\n",
            "Retrain Epoch [18/100], Train Loss: 0.3432, Train Accuracy: 0.9098, Validation Loss: 1.6658, Validation Accuracy: 0.7088\n",
            "Retrain Epoch [19/100], Train Loss: 0.3053, Train Accuracy: 0.9275, Validation Loss: 1.2585, Validation Accuracy: 0.7539\n",
            "Retrain Epoch [20/100], Train Loss: 0.2327, Train Accuracy: 0.9422, Validation Loss: 1.3230, Validation Accuracy: 0.7667\n",
            "Retrain Epoch [21/100], Train Loss: 0.2612, Train Accuracy: 0.9324, Validation Loss: 1.5694, Validation Accuracy: 0.7127\n",
            "Retrain Epoch [22/100], Train Loss: 0.3118, Train Accuracy: 0.9265, Validation Loss: 1.3317, Validation Accuracy: 0.7373\n",
            "Retrain Epoch [23/100], Train Loss: 0.2743, Train Accuracy: 0.9225, Validation Loss: 1.5555, Validation Accuracy: 0.7069\n",
            "Retrain Epoch [24/100], Train Loss: 0.1627, Train Accuracy: 0.9627, Validation Loss: 1.2132, Validation Accuracy: 0.7588\n",
            "Retrain Epoch [25/100], Train Loss: 0.1567, Train Accuracy: 0.9569, Validation Loss: 1.2939, Validation Accuracy: 0.7608\n",
            "Early stopping at epoch 25 during retraining. No improvement in validation accuracy for 5 consecutive epochs.\n"
          ]
        }
      ]
    },
    {
      "cell_type": "code",
      "execution_count": null,
      "metadata": {
        "colab": {
          "base_uri": "https://localhost:8080/",
          "height": 507
        },
        "id": "1jkTm4p8IcBj",
        "outputId": "11661046-cdf8-4d99-a993-284fb70e5299"
      },
      "outputs": [
        {
          "output_type": "display_data",
          "data": {
            "text/plain": [
              "<Figure size 1000x500 with 2 Axes>"
            ],
            "image/png": "[encoded data removed]"
          },
          "metadata": {}
        }
      ],
      "source": [
        "import matplotlib.pyplot as plt\n",
        "epochs = range(1, len(train_loss_history) + 1)\n",
        "\n",
        "plt.figure(figsize=(10, 5))\n",
        "plt.subplot(2, 1, 1)\n",
        "plt.plot(epochs, train_loss_history, 'b-', label='Training Loss')\n",
        "plt.plot(epochs, val_loss_history, 'orange', label='Validation Loss')\n",
        "plt.xlabel('Epochs')\n",
        "plt.ylabel('Loss')\n",
        "plt.title('Training and Validation Loss History')\n",
        "plt.legend()\n",
        "plt.grid()\n",
        "\n",
        "\n",
        "plt.subplot(2, 1, 2)\n",
        "plt.plot(epochs, train_acc_history, 'b-', label='Training Accuracy')\n",
        "plt.plot(epochs, val_acc_history, 'orange', label='Validation Accuracy')\n",
        "plt.xlabel('Epochs')\n",
        "plt.ylabel('Accuracy')\n",
        "plt.title('Training and Validation Accuracy History')\n",
        "plt.legend()\n",
        "plt.grid()\n",
        "\n",
        "plt.tight_layout()\n",
        "plt.show()"
      ]
    },
    {
      "cell_type": "code",
      "execution_count": null,
      "metadata": {
        "colab": {
          "base_uri": "https://localhost:8080/"
        },
        "id": "OLXWx3SnIeaf",
        "outputId": "fe88575f-eea9-40bf-b912-372e0069a5db"
      },
      "outputs": [
        {
          "output_type": "stream",
          "name": "stdout",
          "text": [
            "Loaded pretrained weights for efficientnet-b4\n"
          ]
        },
        {
          "output_type": "stream",
          "name": "stderr",
          "text": [
            "<ipython-input-19-fe082bf58fae>:3: FutureWarning: You are using `torch.load` with `weights_only=False` (the current default value), which uses the default pickle module implicitly. It is possible to construct malicious pickle data which will execute arbitrary code during unpickling (See https://github.com/pytorch/pytorch/blob/main/SECURITY.md#untrusted-models for more details). In a future release, the default value for `weights_only` will be flipped to `True`. This limits the functions that could be executed during unpickling. Arbitrary objects will no longer be allowed to be loaded via this mode unless they are explicitly allowlisted by the user via `torch.serialization.add_safe_globals`. We recommend you start setting `weights_only=True` for any use case where you don't have full control of the loaded file. Please open an issue on GitHub for any issues related to this experimental feature.\n",
            "  model.load_state_dict(torch.load('Best_EfficientNetb4_ExtraConv_DropoutTuned.pth'))\n"
          ]
        },
        {
          "output_type": "stream",
          "name": "stdout",
          "text": [
            "Test Accuracy: 0.7209\n"
          ]
        }
      ],
      "source": [
        "model = CustomEfficientNet(dropout_extra_conv=best_dropout, dropout_classifier=best_dropout)\n",
        "model.to(device)\n",
        "model.load_state_dict(torch.load('Best_EfficientNetb4_ExtraConv_DropoutTuned.pth'))\n",
        "test_acc = test_model(model, test_loader, device)\n",
        "print(f\"Test Accuracy: {test_acc:.4f}\")"
      ]
    },
    {
      "cell_type": "code",
      "execution_count": null,
      "metadata": {
        "id": "ZwUqJBTAj91e"
      },
      "outputs": [],
      "source": []
    }
  ],
  "metadata": {
    "accelerator": "GPU",
    "colab": {
      "gpuType": "A100",
      "provenance": [],
      "include_colab_link": true
    },
    "kernelspec": {
      "display_name": "Python 3",
      "name": "python3"
    },
    "language_info": {
      "name": "python"
    }
  },
  "nbformat": 4,
  "nbformat_minor": 0
}