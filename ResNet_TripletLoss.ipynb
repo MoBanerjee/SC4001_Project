{
  "nbformat": 4,
  "nbformat_minor": 0,
  "metadata": {
    "colab": {
      "provenance": [],
      "gpuType": "T4",
      "include_colab_link": true
    },
    "kernelspec": {
      "name": "python3",
      "display_name": "Python 3"
    },
    "language_info": {
      "name": "python"
    },
    "accelerator": "GPU"
  },
  "cells": [
    {
      "cell_type": "markdown",
      "metadata": {
        "id": "view-in-github",
        "colab_type": "text"
      },
      "source": [
        "<a href=\"https://colab.research.google.com/github/MoBanerjee/SC4001_Project/blob/main/ResNet_TripletLoss.ipynb\" target=\"_parent\"><img src=\"https://colab.research.google.com/assets/colab-badge.svg\" alt=\"Open In Colab\"/></a>"
      ]
    },
    {
      "cell_type": "code",
      "execution_count": null,
      "metadata": {
        "id": "XQONaVaqb1Q5"
      },
      "outputs": [],
      "source": [
        "import torch\n",
        "import torch.nn as nn\n",
        "import torch.optim as optim\n",
        "import torchvision\n",
        "from torchvision import datasets, transforms, models\n",
        "from torch.utils.data import DataLoader, Dataset\n",
        "import random"
      ]
    },
    {
      "cell_type": "code",
      "source": [
        "transform = transforms.Compose([\n",
        "    transforms.Resize((224, 224)),\n",
        "    transforms.ToTensor(),\n",
        "    transforms.Normalize(mean=[0.485, 0.456, 0.406], std=[0.229, 0.224, 0.225]),\n",
        "])"
      ],
      "metadata": {
        "id": "K86S1olxdKkV"
      },
      "execution_count": null,
      "outputs": []
    },
    {
      "cell_type": "code",
      "source": [
        "train_data = torchvision.datasets.Flowers102(root='./data', split='train', transform=transform, download=True)\n",
        "val_data = torchvision.datasets.Flowers102(root='./data', split='val', transform=transform, download=True)\n",
        "test_data = torchvision.datasets.Flowers102(root='./data', split='test', transform=transform, download=True)"
      ],
      "metadata": {
        "id": "zunUfbCIdVJZ"
      },
      "execution_count": null,
      "outputs": []
    },
    {
      "cell_type": "code",
      "source": [
        "class TripletLoss(nn.Module):\n",
        "    def __init__(self, margin=1.0):\n",
        "        super(TripletLoss, self).__init__()\n",
        "        self.margin = margin\n",
        "        self.loss_fn = nn.TripletMarginLoss(margin=self.margin)\n",
        "\n",
        "    def forward(self, anchor, positive, negative):\n",
        "        return self.loss_fn(anchor, positive, negative)"
      ],
      "metadata": {
        "id": "WJirbSrtc9Fe"
      },
      "execution_count": null,
      "outputs": []
    },
    {
      "cell_type": "code",
      "source": [
        "class TripletDataset(Dataset):\n",
        "    def __init__(self, dataset):\n",
        "\n",
        "        self.dataset = dataset\n",
        "        self.labels = [label for _, label in dataset]\n",
        "\n",
        "\n",
        "        self.label_to_indices = {label: [] for label in set(self.labels)}\n",
        "        for idx, label in enumerate(self.labels):\n",
        "            self.label_to_indices[label].append(idx)\n",
        "\n",
        "    def __getitem__(self, index):\n",
        "\n",
        "\n",
        "        anchor, anchor_label = self.dataset[index]\n",
        "\n",
        "\n",
        "        positive_index = index\n",
        "        while positive_index == index:\n",
        "            positive_index = random.choice(self.label_to_indices[anchor_label])\n",
        "        positive, _ = self.dataset[positive_index]\n",
        "\n",
        "\n",
        "        negative_label = random.choice(list(self.label_to_indices.keys()))\n",
        "        while negative_label == anchor_label:\n",
        "            negative_label = random.choice(list(self.label_to_indices.keys()))\n",
        "        negative_index = random.choice(self.label_to_indices[negative_label])\n",
        "        negative, _ = self.dataset[negative_index]\n",
        "\n",
        "        return anchor, positive, negative\n",
        "\n",
        "    def __len__(self):\n",
        "        return len(self.dataset)"
      ],
      "metadata": {
        "id": "esepZ9V8c_AX"
      },
      "execution_count": null,
      "outputs": []
    },
    {
      "cell_type": "code",
      "source": [
        "class ResNet18Triplet(nn.Module):\n",
        "    def __init__(self):\n",
        "        super(ResNet18Triplet, self).__init__()\n",
        "        self.resnet18 = models.resnet18(pretrained=True)\n",
        "        self.resnet18.fc = nn.Linear(512, 128)\n",
        "\n",
        "    def forward(self, x):\n",
        "        return self.resnet18(x)"
      ],
      "metadata": {
        "id": "Ij4zm9uydCme"
      },
      "execution_count": null,
      "outputs": []
    },
    {
      "cell_type": "code",
      "source": [
        "train_triplet_dataset = TripletDataset(train_data)\n",
        "train_loader = DataLoader(train_triplet_dataset, batch_size=32, shuffle=True)"
      ],
      "metadata": {
        "id": "e68EOOiRdfZ1"
      },
      "execution_count": null,
      "outputs": []
    },
    {
      "cell_type": "code",
      "source": [
        "val_triplet_dataset = TripletDataset(val_data)\n",
        "val_loader = DataLoader(val_triplet_dataset, batch_size=32, shuffle=False)"
      ],
      "metadata": {
        "id": "5HdpFzEkdiAx"
      },
      "execution_count": null,
      "outputs": []
    },
    {
      "cell_type": "code",
      "source": [
        "test_triplet_dataset = TripletDataset(test_data)\n",
        "test_loader = DataLoader(test_triplet_dataset, batch_size=32, shuffle=False)"
      ],
      "metadata": {
        "id": "OYgv-7gYdW2I"
      },
      "execution_count": null,
      "outputs": []
    },
    {
      "cell_type": "code",
      "source": [
        "device = torch.device(\"cuda\" if torch.cuda.is_available() else \"cpu\")\n",
        "model = ResNet18Triplet().to(device)"
      ],
      "metadata": {
        "id": "khVMAZwLdGPj"
      },
      "execution_count": null,
      "outputs": []
    },
    {
      "cell_type": "code",
      "source": [
        "triplet_criterion = TripletLoss(margin=1.0)"
      ],
      "metadata": {
        "id": "YvWyGbdzd0oc"
      },
      "execution_count": null,
      "outputs": []
    },
    {
      "cell_type": "code",
      "source": [
        "optimizer = optim.Adam(model.parameters(), lr=0.001)"
      ],
      "metadata": {
        "id": "vxbgc3cid4SY"
      },
      "execution_count": null,
      "outputs": []
    },
    {
      "cell_type": "code",
      "source": [
        "def train_model_triplet(model, criterion, optimizer, num_epochs=100, patience=5):\n",
        "    best_val_acc = 0.0\n",
        "    counter = 0\n",
        "    device = next(model.parameters()).device\n",
        "\n",
        "\n",
        "    train_loss_history, train_acc_history = [], []\n",
        "    val_loss_history, val_acc_history = [], []\n",
        "\n",
        "    for epoch in range(1, num_epochs + 1):\n",
        "        model.train()\n",
        "        running_loss = 0.0\n",
        "        correct_train = 0\n",
        "        total_train = 0\n",
        "\n",
        "\n",
        "        for anchor, positive, negative in train_loader:\n",
        "            anchor, positive, negative = anchor.to(device), positive.to(device), negative.to(device)\n",
        "            optimizer.zero_grad()\n",
        "            anchor_output = model(anchor)\n",
        "            positive_output = model(positive)\n",
        "            negative_output = model(negative)\n",
        "\n",
        "            loss = criterion(anchor_output, positive_output, negative_output)\n",
        "            loss.backward()\n",
        "            optimizer.step()\n",
        "\n",
        "            running_loss += loss.item()\n",
        "\n",
        "            dist_pos = (anchor_output - positive_output).pow(2).sum(1)\n",
        "            dist_neg = (anchor_output - negative_output).pow(2).sum(1)\n",
        "            correct_train += (dist_pos < dist_neg).sum().item()\n",
        "            total_train += anchor.size(0)\n",
        "\n",
        "        train_loss = running_loss / len(train_loader)\n",
        "        train_acc = correct_train / total_train\n",
        "        train_loss_history.append(train_loss)\n",
        "        train_acc_history.append(train_acc)\n",
        "\n",
        "\n",
        "        val_loss, val_acc = validate_model_triplet(model, criterion, device)\n",
        "        val_loss_history.append(val_loss)\n",
        "        val_acc_history.append(val_acc)\n",
        "\n",
        "\n",
        "        print(f'Epoch [{epoch}/{num_epochs}], Train Loss: {train_loss:.4f}, Train Accuracy: {train_acc:.4f}, '\n",
        "              f'Validation Loss: {val_loss:.4f}, Validation Accuracy: {val_acc:.4f}')\n",
        "\n",
        "\n",
        "        if val_acc > best_val_acc:\n",
        "            best_val_acc = val_acc\n",
        "            best_model_state = model.state_dict()\n",
        "            torch.save(best_model_state, 'Best_ResNet_TripletLoss.pth')  # Save model\n",
        "            counter = 0\n",
        "        else:\n",
        "            counter += 1\n",
        "\n",
        "\n",
        "        if counter >= patience:\n",
        "            print(f\"Early stopping at epoch {epoch}. No improvement in validation accuracy for {patience} consecutive epochs.\")\n",
        "            break\n",
        "\n",
        "    return train_loss_history, train_acc_history, val_loss_history, val_acc_history\n"
      ],
      "metadata": {
        "id": "xkjGFpuCd7rL"
      },
      "execution_count": null,
      "outputs": []
    },
    {
      "cell_type": "code",
      "source": [
        "def validate_model_triplet(model, criterion, device):\n",
        "    model.eval()\n",
        "    running_loss = 0.0\n",
        "    correct_val = 0\n",
        "    total_val = 0\n",
        "\n",
        "    with torch.no_grad():\n",
        "        for anchor, positive, negative in val_loader:\n",
        "            anchor, positive, negative = anchor.to(device), positive.to(device), negative.to(device)\n",
        "            anchor_output = model(anchor)\n",
        "            positive_output = model(positive)\n",
        "            negative_output = model(negative)\n",
        "\n",
        "            loss = criterion(anchor_output, positive_output, negative_output)\n",
        "            running_loss += loss.item()\n",
        "\n",
        "\n",
        "            dist_pos = (anchor_output - positive_output).pow(2).sum(1)\n",
        "            dist_neg = (anchor_output - negative_output).pow(2).sum(1)\n",
        "            correct_val += (dist_pos < dist_neg).sum().item()\n",
        "            total_val += anchor.size(0)\n",
        "\n",
        "    val_loss = running_loss / len(val_loader)\n",
        "    val_acc = correct_val / total_val\n",
        "    return val_loss, val_acc"
      ],
      "metadata": {
        "id": "LnDOtwD2d9aH"
      },
      "execution_count": null,
      "outputs": []
    },
    {
      "cell_type": "code",
      "source": [
        "def test_model_triplet(model):\n",
        "    model.eval()\n",
        "\n",
        "    correct = 0\n",
        "    total = 0\n",
        "\n",
        "    with torch.no_grad():\n",
        "        for anchor, positive, negative in test_loader:\n",
        "            anchor, positive, negative = anchor.to(device), positive.to(device), negative.to(device)\n",
        "            anchor_output = model(anchor)\n",
        "            positive_output = model(positive)\n",
        "            negative_output = model(negative)\n",
        "\n",
        "\n",
        "\n",
        "            dist_pos = (anchor_output - positive_output).pow(2).sum(1)\n",
        "            dist_neg = (anchor_output - negative_output).pow(2).sum(1)\n",
        "            correct += (dist_pos < dist_neg).sum().item()\n",
        "            total+= anchor.size(0)\n",
        "\n",
        "    test_acc = correct / total\n",
        "    return test_acc"
      ],
      "metadata": {
        "id": "w1iip3AVpiWG"
      },
      "execution_count": null,
      "outputs": []
    },
    {
      "cell_type": "code",
      "source": [
        "train_loss_history, train_acc_history, val_loss_history, val_acc_history=train_model_triplet(model, triplet_criterion, optimizer, num_epochs=100)"
      ],
      "metadata": {
        "colab": {
          "base_uri": "https://localhost:8080/"
        },
        "id": "7tY00S29eAkc",
        "outputId": "e7d4024f-9791-4750-91fa-d301cdf10a5b"
      },
      "execution_count": null,
      "outputs": [
        {
          "output_type": "stream",
          "name": "stdout",
          "text": [
            "Epoch [1/100], Train Loss: 0.6676, Train Accuracy: 0.8127, Validation Loss: 1.3563, Validation Accuracy: 0.7696\n",
            "Epoch [2/100], Train Loss: 0.6194, Train Accuracy: 0.7843, Validation Loss: 0.5759, Validation Accuracy: 0.7941\n",
            "Epoch [3/100], Train Loss: 0.5355, Train Accuracy: 0.7912, Validation Loss: 0.6525, Validation Accuracy: 0.7676\n",
            "Epoch [4/100], Train Loss: 0.5962, Train Accuracy: 0.7657, Validation Loss: 0.5707, Validation Accuracy: 0.7755\n",
            "Epoch [5/100], Train Loss: 0.4833, Train Accuracy: 0.8039, Validation Loss: 0.5293, Validation Accuracy: 0.7882\n",
            "Epoch [6/100], Train Loss: 0.5161, Train Accuracy: 0.8010, Validation Loss: 0.5583, Validation Accuracy: 0.7853\n",
            "Epoch [7/100], Train Loss: 0.5093, Train Accuracy: 0.7980, Validation Loss: 0.5503, Validation Accuracy: 0.7941\n",
            "Early stopping at epoch 7. No improvement in validation accuracy for 5 consecutive epochs.\n"
          ]
        }
      ]
    },
    {
      "cell_type": "code",
      "source": [
        "import matplotlib.pyplot as plt\n",
        "epochs = range(1, len(train_loss_history) + 1)\n",
        "\n",
        "plt.figure(figsize=(10, 5))\n",
        "plt.subplot(2, 1, 1)\n",
        "plt.plot(epochs, train_loss_history, 'b-', label='Training Loss')\n",
        "plt.plot(epochs, val_loss_history, 'orange', label='Validation Loss')\n",
        "plt.xlabel('Epochs')\n",
        "plt.ylabel('Loss')\n",
        "plt.title('Training and Validation Loss History')\n",
        "plt.legend()\n",
        "plt.grid()\n",
        "\n",
        "\n",
        "plt.subplot(2, 1, 2)\n",
        "plt.plot(epochs, train_acc_history, 'b-', label='Training Accuracy')\n",
        "plt.plot(epochs, val_acc_history, 'orange', label='Validation Accuracy')\n",
        "plt.xlabel('Epochs')\n",
        "plt.ylabel('Accuracy')\n",
        "plt.title('Training and Validation Accuracy History')\n",
        "plt.legend()\n",
        "plt.grid()\n",
        "\n",
        "plt.tight_layout()\n",
        "plt.show()"
      ],
      "metadata": {
        "colab": {
          "base_uri": "https://localhost:8080/",
          "height": 507
        },
        "id": "pQ7j5suVgjaI",
        "outputId": "0ff6dade-5d80-4809-e84b-7688ae822348"
      },
      "execution_count": null,
      "outputs": [
        {
          "output_type": "display_data",
          "data": {
            "text/plain": [
              "<Figure size 1000x500 with 2 Axes>"
            ],
            "image/png": "[encoded data removed]"
          },
          "metadata": {}
        }
      ]
    },
    {
      "cell_type": "code",
      "source": [
        "test_acc=test_model_triplet(model)"
      ],
      "metadata": {
        "id": "WBKQBgaLeEXq"
      },
      "execution_count": null,
      "outputs": []
    },
    {
      "cell_type": "code",
      "source": [
        "print(f'Test Accuracy: {test_acc}%')"
      ],
      "metadata": {
        "colab": {
          "base_uri": "https://localhost:8080/"
        },
        "id": "XwGq4VkKpcp5",
        "outputId": "21df6fe3-3e4c-477c-ab2f-2b7d0cecb272"
      },
      "execution_count": null,
      "outputs": [
        {
          "output_type": "stream",
          "name": "stdout",
          "text": [
            "Test Accuracy: 0.7754106358757522%\n"
          ]
        }
      ]
    },
    {
      "cell_type": "code",
      "source": [],
      "metadata": {
        "id": "o3iypYr5qizz"
      },
      "execution_count": null,
      "outputs": []
    }
  ]
}