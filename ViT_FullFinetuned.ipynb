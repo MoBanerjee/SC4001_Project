{
  "nbformat": 4,
  "nbformat_minor": 0,
  "metadata": {
    "colab": {
      "provenance": [],
      "gpuType": "T4",
      "include_colab_link": true
    },
    "kernelspec": {
      "name": "python3",
      "display_name": "Python 3"
    },
    "language_info": {
      "name": "python"
    },
    "accelerator": "GPU"
  },
  "cells": [
    {
      "cell_type": "markdown",
      "metadata": {
        "id": "view-in-github",
        "colab_type": "text"
      },
      "source": [
        "<a href=\"https://colab.research.google.com/github/MoBanerjee/SC4001_Project/blob/main/ViT_FullFinetuned.ipynb\" target=\"_parent\"><img src=\"https://colab.research.google.com/assets/colab-badge.svg\" alt=\"Open In Colab\"/></a>"
      ]
    },
    {
      "cell_type": "code",
      "execution_count": null,
      "metadata": {
        "id": "YRSAQPfMUlG8"
      },
      "outputs": [],
      "source": [
        "import torch\n",
        "import torch.nn as nn\n",
        "import torchvision.transforms as transforms\n",
        "from transformers import ViTForImageClassification, ViTFeatureExtractor\n",
        "from torch.utils.data import DataLoader\n",
        "from torchvision.datasets import Flowers102"
      ]
    },
    {
      "cell_type": "code",
      "source": [
        "transform = transforms.Compose([\n",
        "    transforms.Resize((224, 224)),\n",
        "    transforms.ToTensor(),\n",
        "    transforms.Normalize(mean=[0.485, 0.456, 0.406], std=[0.229, 0.224, 0.225]),\n",
        "])"
      ],
      "metadata": {
        "id": "ZRHS82tJUoou"
      },
      "execution_count": null,
      "outputs": []
    },
    {
      "cell_type": "code",
      "source": [
        "train_data = Flowers102(root='./data', split='train', transform=transform, download=True)\n",
        "val_data = Flowers102(root='./data', split='val', transform=transform, download=True)\n",
        "test_data = Flowers102(root='./data', split='test', transform=transform, download=True)"
      ],
      "metadata": {
        "id": "ZM_cfMW6Ut2T"
      },
      "execution_count": null,
      "outputs": []
    },
    {
      "cell_type": "code",
      "source": [
        "train_loader = DataLoader(train_data, batch_size=16, shuffle=True)\n",
        "val_loader = DataLoader(val_data, batch_size=16, shuffle=False)\n",
        "test_loader = DataLoader(test_data, batch_size=16, shuffle=False)"
      ],
      "metadata": {
        "id": "fphNqnR-UuWg"
      },
      "execution_count": null,
      "outputs": []
    },
    {
      "cell_type": "code",
      "source": [
        "device = torch.device(\"cuda\" if torch.cuda.is_available() else \"cpu\")"
      ],
      "metadata": {
        "id": "1w0AOWyTUmKx"
      },
      "execution_count": null,
      "outputs": []
    },
    {
      "cell_type": "code",
      "source": [
        "model = ViTForImageClassification.from_pretrained('google/vit-base-patch16-224', num_labels=102, ignore_mismatched_sizes=True)\n",
        "model.to(device)"
      ],
      "metadata": {
        "colab": {
          "base_uri": "https://localhost:8080/"
        },
        "id": "WsrmYA3zUrJH",
        "outputId": "afa6f2b6-1a24-4fff-fa58-2331e3d1c464"
      },
      "execution_count": null,
      "outputs": [
        {
          "output_type": "stream",
          "name": "stderr",
          "text": [
            "Some weights of ViTForImageClassification were not initialized from the model checkpoint at google/vit-base-patch16-224 and are newly initialized because the shapes did not match:\n",
            "- classifier.bias: found shape torch.Size([1000]) in the checkpoint and torch.Size([102]) in the model instantiated\n",
            "- classifier.weight: found shape torch.Size([1000, 768]) in the checkpoint and torch.Size([102, 768]) in the model instantiated\n",
            "You should probably TRAIN this model on a down-stream task to be able to use it for predictions and inference.\n"
          ]
        },
        {
          "output_type": "execute_result",
          "data": {
            "text/plain": [
              "ViTForImageClassification(\n",
              "  (vit): ViTModel(\n",
              "    (embeddings): ViTEmbeddings(\n",
              "      (patch_embeddings): ViTPatchEmbeddings(\n",
              "        (projection): Conv2d(3, 768, kernel_size=(16, 16), stride=(16, 16))\n",
              "      )\n",
              "      (dropout): Dropout(p=0.0, inplace=False)\n",
              "    )\n",
              "    (encoder): ViTEncoder(\n",
              "      (layer): ModuleList(\n",
              "        (0-11): 12 x ViTLayer(\n",
              "          (attention): ViTSdpaAttention(\n",
              "            (attention): ViTSdpaSelfAttention(\n",
              "              (query): Linear(in_features=768, out_features=768, bias=True)\n",
              "              (key): Linear(in_features=768, out_features=768, bias=True)\n",
              "              (value): Linear(in_features=768, out_features=768, bias=True)\n",
              "              (dropout): Dropout(p=0.0, inplace=False)\n",
              "            )\n",
              "            (output): ViTSelfOutput(\n",
              "              (dense): Linear(in_features=768, out_features=768, bias=True)\n",
              "              (dropout): Dropout(p=0.0, inplace=False)\n",
              "            )\n",
              "          )\n",
              "          (intermediate): ViTIntermediate(\n",
              "            (dense): Linear(in_features=768, out_features=3072, bias=True)\n",
              "            (intermediate_act_fn): GELUActivation()\n",
              "          )\n",
              "          (output): ViTOutput(\n",
              "            (dense): Linear(in_features=3072, out_features=768, bias=True)\n",
              "            (dropout): Dropout(p=0.0, inplace=False)\n",
              "          )\n",
              "          (layernorm_before): LayerNorm((768,), eps=1e-12, elementwise_affine=True)\n",
              "          (layernorm_after): LayerNorm((768,), eps=1e-12, elementwise_affine=True)\n",
              "        )\n",
              "      )\n",
              "    )\n",
              "    (layernorm): LayerNorm((768,), eps=1e-12, elementwise_affine=True)\n",
              "  )\n",
              "  (classifier): Linear(in_features=768, out_features=102, bias=True)\n",
              ")"
            ]
          },
          "metadata": {},
          "execution_count": 51
        }
      ]
    },
    {
      "cell_type": "code",
      "source": [
        "criterion = nn.CrossEntropyLoss()\n",
        "optimizer = torch.optim.Adam(model.parameters(), lr=2e-5)"
      ],
      "metadata": {
        "id": "ydtN9cVlUzAT"
      },
      "execution_count": null,
      "outputs": []
    },
    {
      "cell_type": "code",
      "source": [
        "class EarlyStopping:\n",
        "    def __init__(self, patience=5, verbose=False):\n",
        "        self.patience = patience\n",
        "        self.verbose = verbose\n",
        "        self.counter = 0\n",
        "        self.best_score = None\n",
        "        self.early_stop = False\n",
        "\n",
        "    def __call__(self, score, epoch):\n",
        "        if self.best_score is None:\n",
        "            self.best_score = score\n",
        "        elif score < self.best_score:\n",
        "            self.counter += 1\n",
        "            if self.verbose:\n",
        "                print(f'EarlyStopping counter: {self.counter} out of {self.patience} at epoch {epoch}')\n",
        "            if self.counter >= self.patience:\n",
        "                self.early_stop = True\n",
        "                print(f'Early stopping at epoch {epoch}. No improvement in validation accuracy for {self.patience} consecutive epochs.')\n",
        "        else:\n",
        "            self.best_score = score\n",
        "            self.counter = 0\n"
      ],
      "metadata": {
        "id": "Kqty2lzRV3Ib"
      },
      "execution_count": null,
      "outputs": []
    },
    {
      "cell_type": "code",
      "source": [
        "def train_model(model, train_loader, val_loader, optimizer, criterion, model_save_path, epochs=5, patience=5):\n",
        "    early_stopping = EarlyStopping(patience=patience, verbose=True)\n",
        "    best_val_accuracy = 0.0\n",
        "    best_model_wts = None\n",
        "\n",
        "\n",
        "    train_loss_history = []\n",
        "    train_accuracy_history = []\n",
        "    val_loss_history = []\n",
        "    val_accuracy_history = []\n",
        "\n",
        "    for epoch in range(epochs):\n",
        "        model.train()\n",
        "        running_loss = 0.0\n",
        "        correct = 0\n",
        "        total = 0\n",
        "\n",
        "        for images, labels in train_loader:\n",
        "            images, labels = images.to(device), labels.to(device)\n",
        "\n",
        "            optimizer.zero_grad()\n",
        "            outputs = model(images).logits\n",
        "            loss = criterion(outputs, labels)\n",
        "            loss.backward()\n",
        "            optimizer.step()\n",
        "\n",
        "            running_loss += loss.item()\n",
        "\n",
        "\n",
        "            _, predicted = torch.max(outputs, 1)\n",
        "            total += labels.size(0)\n",
        "            correct += (predicted == labels).sum().item()\n",
        "\n",
        "        train_loss = running_loss / len(train_loader)\n",
        "        train_accuracy = correct / total\n",
        "\n",
        "\n",
        "        val_loss, val_accuracy = validate_model(model, val_loader, criterion)\n",
        "\n",
        "\n",
        "        train_loss_history.append(train_loss)\n",
        "        train_accuracy_history.append(train_accuracy)\n",
        "        val_loss_history.append(val_loss)\n",
        "        val_accuracy_history.append(val_accuracy)\n",
        "\n",
        "\n",
        "        print(f\"Epoch [{epoch + 1}/{epochs}], \"\n",
        "              f\"Train Loss: {train_loss:.4f}, \"\n",
        "              f\"Train Accuracy: {train_accuracy:.4f}, \"\n",
        "              f\"Validation Loss: {val_loss:.4f}, \"\n",
        "              f\"Validation Accuracy: {val_accuracy:.4f}\")\n",
        "\n",
        "\n",
        "        if val_accuracy > best_val_accuracy:\n",
        "            best_val_accuracy = val_accuracy\n",
        "            best_model_wts = model.state_dict()\n",
        "\n",
        "\n",
        "        early_stopping(val_accuracy, epoch + 1)\n",
        "\n",
        "        if early_stopping.early_stop:\n",
        "\n",
        "            break\n",
        "\n",
        "\n",
        "    if best_model_wts is not None:\n",
        "        model.load_state_dict(best_model_wts)\n",
        "\n",
        "    torch.save(model.state_dict(), model_save_path)\n",
        "\n",
        "\n",
        "\n",
        "    return train_loss_history, train_accuracy_history, val_loss_history, val_accuracy_history\n"
      ],
      "metadata": {
        "id": "S1aN8CofU1uY"
      },
      "execution_count": null,
      "outputs": []
    },
    {
      "cell_type": "code",
      "source": [
        "def validate_model(model, val_loader, criterion):\n",
        "    model.eval()\n",
        "    total_loss = 0.0\n",
        "    correct = 0\n",
        "    total = 0\n",
        "\n",
        "    with torch.no_grad():\n",
        "        for images, labels in val_loader:\n",
        "            images, labels = images.to(device), labels.to(device)\n",
        "            outputs = model(images).logits\n",
        "            loss = criterion(outputs, labels)\n",
        "\n",
        "            total_loss += loss.item()\n",
        "\n",
        "\n",
        "            _, predicted = torch.max(outputs, 1)\n",
        "            total += labels.size(0)\n",
        "            correct += (predicted == labels).sum().item()\n",
        "\n",
        "    val_loss = total_loss / len(val_loader)\n",
        "    val_accuracy = correct / total\n",
        "    return val_loss, val_accuracy"
      ],
      "metadata": {
        "id": "-TYdK_Y0VFG3"
      },
      "execution_count": null,
      "outputs": []
    },
    {
      "cell_type": "code",
      "source": [
        "def test_model(model, test_loader):\n",
        "    model.eval()\n",
        "    correct = 0\n",
        "    total = 0\n",
        "    with torch.no_grad():\n",
        "        for images, labels in test_loader:\n",
        "            images, labels = images.to(device), labels.to(device)\n",
        "            outputs = model(images).logits\n",
        "            _, predicted = torch.max(outputs, 1)\n",
        "            total += labels.size(0)\n",
        "            correct += (predicted == labels).sum().item()\n",
        "\n",
        "    print(f'Test Accuracy: {100 * correct / total:.2f}%')"
      ],
      "metadata": {
        "id": "4GABgJ0iW_1H"
      },
      "execution_count": null,
      "outputs": []
    },
    {
      "cell_type": "code",
      "source": [
        "train_loss_history, train_accuracy_history, val_loss_history, val_accuracy_history = train_model(model, train_loader, val_loader, optimizer, criterion, epochs=25,model_save_path='Best_ViT_FullFineTuned.pth')"
      ],
      "metadata": {
        "colab": {
          "base_uri": "https://localhost:8080/"
        },
        "id": "by-JIaSDVKxE",
        "outputId": "d01a0042-73ae-403d-f142-745a06ade889"
      },
      "execution_count": null,
      "outputs": [
        {
          "output_type": "stream",
          "name": "stdout",
          "text": [
            "Epoch [1/25], Train Loss: 4.4381, Train Accuracy: 0.0667, Validation Loss: 3.9834, Validation Accuracy: 0.2010\n",
            "Epoch [2/25], Train Loss: 3.3977, Train Accuracy: 0.5637, Validation Loss: 3.2113, Validation Accuracy: 0.6755\n",
            "Epoch [3/25], Train Loss: 2.3912, Train Accuracy: 0.9422, Validation Loss: 2.4866, Validation Accuracy: 0.8686\n",
            "Epoch [4/25], Train Loss: 1.5094, Train Accuracy: 0.9961, Validation Loss: 1.9195, Validation Accuracy: 0.9137\n",
            "Epoch [5/25], Train Loss: 0.8957, Train Accuracy: 1.0000, Validation Loss: 1.5448, Validation Accuracy: 0.9353\n",
            "Epoch [6/25], Train Loss: 0.5354, Train Accuracy: 1.0000, Validation Loss: 1.3014, Validation Accuracy: 0.9451\n",
            "Epoch [7/25], Train Loss: 0.3370, Train Accuracy: 1.0000, Validation Loss: 1.1457, Validation Accuracy: 0.9520\n",
            "Epoch [8/25], Train Loss: 0.2293, Train Accuracy: 1.0000, Validation Loss: 1.0400, Validation Accuracy: 0.9529\n",
            "Epoch [9/25], Train Loss: 0.1667, Train Accuracy: 1.0000, Validation Loss: 0.9639, Validation Accuracy: 0.9559\n",
            "Epoch [10/25], Train Loss: 0.1282, Train Accuracy: 1.0000, Validation Loss: 0.9056, Validation Accuracy: 0.9569\n",
            "Epoch [11/25], Train Loss: 0.1024, Train Accuracy: 1.0000, Validation Loss: 0.8612, Validation Accuracy: 0.9578\n",
            "Epoch [12/25], Train Loss: 0.0842, Train Accuracy: 1.0000, Validation Loss: 0.8178, Validation Accuracy: 0.9618\n",
            "Epoch [13/25], Train Loss: 0.0708, Train Accuracy: 1.0000, Validation Loss: 0.7894, Validation Accuracy: 0.9618\n",
            "Epoch [14/25], Train Loss: 0.0607, Train Accuracy: 1.0000, Validation Loss: 0.7611, Validation Accuracy: 0.9608\n",
            "EarlyStopping counter: 1 out of 5 at epoch 14\n",
            "Epoch [15/25], Train Loss: 0.0527, Train Accuracy: 1.0000, Validation Loss: 0.7368, Validation Accuracy: 0.9627\n",
            "Epoch [16/25], Train Loss: 0.0463, Train Accuracy: 1.0000, Validation Loss: 0.7152, Validation Accuracy: 0.9618\n",
            "EarlyStopping counter: 1 out of 5 at epoch 16\n",
            "Epoch [17/25], Train Loss: 0.0410, Train Accuracy: 1.0000, Validation Loss: 0.6955, Validation Accuracy: 0.9608\n",
            "EarlyStopping counter: 2 out of 5 at epoch 17\n",
            "Epoch [18/25], Train Loss: 0.0366, Train Accuracy: 1.0000, Validation Loss: 0.6797, Validation Accuracy: 0.9618\n",
            "EarlyStopping counter: 3 out of 5 at epoch 18\n",
            "Epoch [19/25], Train Loss: 0.0329, Train Accuracy: 1.0000, Validation Loss: 0.6630, Validation Accuracy: 0.9608\n",
            "EarlyStopping counter: 4 out of 5 at epoch 19\n",
            "Epoch [20/25], Train Loss: 0.0298, Train Accuracy: 1.0000, Validation Loss: 0.6490, Validation Accuracy: 0.9608\n",
            "EarlyStopping counter: 5 out of 5 at epoch 20\n",
            "Early stopping at epoch 20. No improvement in validation accuracy for 5 consecutive epochs.\n"
          ]
        }
      ]
    },
    {
      "cell_type": "code",
      "source": [
        "import matplotlib.pyplot as plt\n",
        "epochs = range(1, len(train_loss_history) + 1)\n",
        "\n",
        "plt.figure(figsize=(10, 5))\n",
        "plt.subplot(2, 1, 1)\n",
        "plt.plot(epochs, train_loss_history, 'b-', label='Training Loss')\n",
        "plt.plot(epochs, val_loss_history, 'orange', label='Validation Loss')\n",
        "plt.xlabel('Epochs')\n",
        "plt.ylabel('Loss')\n",
        "plt.title('Training and Validation Loss History')\n",
        "plt.legend()\n",
        "plt.grid()\n",
        "\n",
        "\n",
        "plt.subplot(2, 1, 2)\n",
        "plt.plot(epochs, train_accuracy_history, 'b-', label='Training Accuracy')\n",
        "plt.plot(epochs, val_accuracy_history, 'orange', label='Validation Accuracy')\n",
        "plt.xlabel('Epochs')\n",
        "plt.ylabel('Accuracy')\n",
        "plt.title('Training and Validation Accuracy History')\n",
        "plt.legend()\n",
        "plt.grid()\n",
        "\n",
        "plt.tight_layout()\n",
        "plt.show()"
      ],
      "metadata": {
        "colab": {
          "base_uri": "https://localhost:8080/",
          "height": 54
        },
        "id": "UwkOxTh_W55v",
        "outputId": "08e30d73-9839-464a-9d2b-b34801c884bd"
      },
      "execution_count": null,
      "outputs": [
        {
          "output_type": "display_data",
          "data": {
            "text/plain": [
              "<Figure size 1000x500 with 2 Axes>"
            ],
            "image/png": "[encoded data removed]"
          },
          "metadata": {}
        }
      ]
    },
    {
      "cell_type": "code",
      "source": [
        "test_model(model, test_loader)"
      ],
      "metadata": {
        "colab": {
          "base_uri": "https://localhost:8080/"
        },
        "id": "nt597_6RVNvq",
        "outputId": "39a7cdb8-ae6c-49c5-9c76-6281534bf04f"
      },
      "execution_count": null,
      "outputs": [
        {
          "output_type": "stream",
          "name": "stdout",
          "text": [
            "Test Accuracy: 94.29%\n"
          ]
        }
      ]
    }
  ]
}