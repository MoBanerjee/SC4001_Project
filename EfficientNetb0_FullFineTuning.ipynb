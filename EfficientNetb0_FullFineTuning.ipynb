{
  "nbformat": 4,
  "nbformat_minor": 0,
  "metadata": {
    "colab": {
      "provenance": [],
      "gpuType": "T4",
      "authorship_tag": "ABX9TyOqOqPAFXd9rkLoxiKdTWFR",
      "include_colab_link": true
    },
    "kernelspec": {
      "name": "python3",
      "display_name": "Python 3"
    },
    "language_info": {
      "name": "python"
    },
    "accelerator": "GPU"
  },
  "cells": [
    {
      "cell_type": "markdown",
      "metadata": {
        "id": "view-in-github",
        "colab_type": "text"
      },
      "source": [
        "<a href=\"https://colab.research.google.com/github/MoBanerjee/SC4001_Project/blob/main/EfficientNetb0_FullFineTuning.ipynb\" target=\"_parent\"><img src=\"https://colab.research.google.com/assets/colab-badge.svg\" alt=\"Open In Colab\"/></a>"
      ]
    },
    {
      "cell_type": "code",
      "execution_count": null,
      "metadata": {
        "id": "1Hb7peznDbmo"
      },
      "outputs": [],
      "source": [
        "import torch\n",
        "import torchvision\n",
        "import torchvision.transforms as transforms\n",
        "from torch.utils.data import DataLoader, random_split\n",
        "import torch.nn as nn\n",
        "import torch.optim as optim"
      ]
    },
    {
      "cell_type": "code",
      "source": [
        "transform = transforms.Compose([\n",
        "    transforms.Resize((224, 224)),\n",
        "    transforms.ToTensor(),\n",
        "    transforms.Normalize(mean=[0.485, 0.456, 0.406], std=[0.229, 0.224, 0.225]),\n",
        "])"
      ],
      "metadata": {
        "id": "5wjpxAV1Dc24"
      },
      "execution_count": null,
      "outputs": []
    },
    {
      "cell_type": "code",
      "source": [
        "train_data = torchvision.datasets.Flowers102(root='./data', split='train', transform=transform, download=True)\n",
        "val_data = torchvision.datasets.Flowers102(root='./data', split='val', transform=transform, download=True)\n",
        "test_data = torchvision.datasets.Flowers102(root='./data', split='test', transform=transform, download=True)"
      ],
      "metadata": {
        "id": "Z1vkL5xSDeR8",
        "colab": {
          "base_uri": "https://localhost:8080/"
        },
        "outputId": "c677c1f2-eded-454c-e272-9327a4037fd3"
      },
      "execution_count": null,
      "outputs": [
        {
          "output_type": "stream",
          "name": "stdout",
          "text": [
            "Downloading https://thor.robots.ox.ac.uk/flowers/102/102flowers.tgz to data/flowers-102/102flowers.tgz\n"
          ]
        },
        {
          "output_type": "stream",
          "name": "stderr",
          "text": [
            "100%|██████████| 345M/345M [00:13<00:00, 24.9MB/s]\n"
          ]
        },
        {
          "output_type": "stream",
          "name": "stdout",
          "text": [
            "Extracting data/flowers-102/102flowers.tgz to data/flowers-102\n",
            "Downloading https://thor.robots.ox.ac.uk/flowers/102/imagelabels.mat to data/flowers-102/imagelabels.mat\n"
          ]
        },
        {
          "output_type": "stream",
          "name": "stderr",
          "text": [
            "100%|██████████| 502/502 [00:00<00:00, 1.39MB/s]\n"
          ]
        },
        {
          "output_type": "stream",
          "name": "stdout",
          "text": [
            "Downloading https://thor.robots.ox.ac.uk/flowers/102/setid.mat to data/flowers-102/setid.mat\n"
          ]
        },
        {
          "output_type": "stream",
          "name": "stderr",
          "text": [
            "100%|██████████| 15.0k/15.0k [00:00<00:00, 14.8MB/s]\n"
          ]
        }
      ]
    },
    {
      "cell_type": "code",
      "source": [
        "train_loader = DataLoader(train_data, batch_size=32, shuffle=True)\n",
        "val_loader = DataLoader(val_data, batch_size=32, shuffle=False)\n",
        "test_loader = DataLoader(test_data, batch_size=32, shuffle=False)"
      ],
      "metadata": {
        "id": "yCew2XqIDf_q"
      },
      "execution_count": null,
      "outputs": []
    },
    {
      "cell_type": "code",
      "source": [
        "model = torchvision.models.efficientnet_b0(pretrained=True)\n",
        "for param in model.parameters():\n",
        "    param.requires_grad = False"
      ],
      "metadata": {
        "id": "avZlC0xsDhyk",
        "colab": {
          "base_uri": "https://localhost:8080/"
        },
        "outputId": "eef93215-cb84-46c8-b40f-4ed6679d3b21"
      },
      "execution_count": null,
      "outputs": [
        {
          "output_type": "stream",
          "name": "stderr",
          "text": [
            "/usr/local/lib/python3.10/dist-packages/torchvision/models/_utils.py:208: UserWarning: The parameter 'pretrained' is deprecated since 0.13 and may be removed in the future, please use 'weights' instead.\n",
            "  warnings.warn(\n",
            "/usr/local/lib/python3.10/dist-packages/torchvision/models/_utils.py:223: UserWarning: Arguments other than a weight enum or `None` for 'weights' are deprecated since 0.13 and may be removed in the future. The current behavior is equivalent to passing `weights=EfficientNet_B0_Weights.IMAGENET1K_V1`. You can also use `weights=EfficientNet_B0_Weights.DEFAULT` to get the most up-to-date weights.\n",
            "  warnings.warn(msg)\n",
            "Downloading: \"https://download.pytorch.org/models/efficientnet_b0_rwightman-7f5810bc.pth\" to /root/.cache/torch/hub/checkpoints/efficientnet_b0_rwightman-7f5810bc.pth\n",
            "100%|██████████| 20.5M/20.5M [00:00<00:00, 88.6MB/s]\n"
          ]
        }
      ]
    },
    {
      "cell_type": "code",
      "source": [
        "model.classifier[1] = nn.Linear(in_features=model.classifier[1].in_features, out_features=102)\n",
        "for param in model.classifier.parameters():\n",
        "    param.requires_grad = True"
      ],
      "metadata": {
        "id": "k3VHtqysDq00"
      },
      "execution_count": null,
      "outputs": []
    },
    {
      "cell_type": "code",
      "source": [
        "device = torch.device(\"cuda\" if torch.cuda.is_available() else \"cpu\")\n",
        "model = model.to(device)"
      ],
      "metadata": {
        "id": "KbcAd-cWDxB3"
      },
      "execution_count": null,
      "outputs": []
    },
    {
      "cell_type": "code",
      "source": [
        "criterion = nn.CrossEntropyLoss()\n",
        "optimizer = optim.Adam(filter(lambda p: p.requires_grad, model.parameters()), lr=0.001)"
      ],
      "metadata": {
        "id": "3JSTH45aDxm_"
      },
      "execution_count": null,
      "outputs": []
    },
    {
      "cell_type": "code",
      "source": [
        "def train_model(model, dataloader, criterion, optimizer, device):\n",
        "    model.train()\n",
        "    running_loss = 0.0\n",
        "    correct = 0\n",
        "    total = 0\n",
        "    for inputs, labels in dataloader:\n",
        "        inputs, labels = inputs.to(device), labels.to(device)\n",
        "        optimizer.zero_grad()\n",
        "        outputs = model(inputs)\n",
        "        loss = criterion(outputs, labels)\n",
        "        loss.backward()\n",
        "        optimizer.step()\n",
        "        running_loss += loss.item()\n",
        "        _, predicted = torch.max(outputs, 1)\n",
        "        total += labels.size(0)\n",
        "        correct += (predicted == labels).sum().item()\n",
        "    return running_loss / len(dataloader), correct / total"
      ],
      "metadata": {
        "id": "gSUjj_sbD2XV"
      },
      "execution_count": null,
      "outputs": []
    },
    {
      "cell_type": "code",
      "source": [
        "def validate_model(model, dataloader, criterion, device):\n",
        "    model.eval()\n",
        "    running_loss = 0.0\n",
        "    correct = 0\n",
        "    total = 0\n",
        "    with torch.no_grad():\n",
        "        for inputs, labels in dataloader:\n",
        "            inputs, labels = inputs.to(device), labels.to(device)\n",
        "            outputs = model(inputs)\n",
        "            loss = criterion(outputs, labels)\n",
        "            running_loss += loss.item()\n",
        "            _, predicted = torch.max(outputs, 1)\n",
        "            total += labels.size(0)\n",
        "            correct += (predicted == labels).sum().item()\n",
        "    return running_loss / len(dataloader), correct / total"
      ],
      "metadata": {
        "id": "EN3MLMsvD3F2"
      },
      "execution_count": null,
      "outputs": []
    },
    {
      "cell_type": "code",
      "source": [
        "def test_model(model, dataloader, device):\n",
        "    model.eval()\n",
        "    correct = 0\n",
        "    total = 0\n",
        "    with torch.no_grad():\n",
        "        for inputs, labels in dataloader:\n",
        "            inputs, labels = inputs.to(device), labels.to(device)\n",
        "            outputs = model(inputs)\n",
        "            _, predicted = torch.max(outputs, 1)\n",
        "            total += labels.size(0)\n",
        "            correct += (predicted == labels).sum().item()\n",
        "    return correct / total"
      ],
      "metadata": {
        "id": "HumkUjbMD5AZ"
      },
      "execution_count": null,
      "outputs": []
    },
    {
      "cell_type": "code",
      "source": [
        "num_epochs = 100\n",
        "best_val_acc = 0.0\n",
        "patience = 5\n",
        "counter = 0\n",
        "train_loss_history=[]\n",
        "train_acc_history=[]\n",
        "val_loss_history=[]\n",
        "val_acc_history=[]\n",
        "\n",
        "for epoch in range(num_epochs):\n",
        "    train_loss, train_acc = train_model(model, train_loader, criterion, optimizer, device)\n",
        "    val_loss, val_acc = validate_model(model, val_loader, criterion, device)\n",
        "    train_loss_history.append(train_loss)\n",
        "    train_acc_history.append(train_acc)\n",
        "    val_loss_history.append(val_loss)\n",
        "    val_acc_history.append(val_acc)\n",
        "    print(f\"Epoch [{epoch+1}/{num_epochs}], Train Loss: {train_loss:.4f}, Train Accuracy: {train_acc:.4f}, Validation Loss: {val_loss:.4f}, Validation Accuracy: {val_acc:.4f}\")\n",
        "\n",
        "    if val_acc > best_val_acc:\n",
        "        best_val_acc = val_acc\n",
        "        torch.save(model.state_dict(), 'Best_EfficientNetb0_FullFineTuning.pth')\n",
        "        counter = 0\n",
        "    else:\n",
        "        counter += 1\n",
        "\n",
        "    if counter >= patience:\n",
        "        print(f\"Early stopping at epoch {epoch+1}. No improvement in validation accuracy for {patience} consecutive epochs.\")\n",
        "        break"
      ],
      "metadata": {
        "id": "qk9IEobsD6qq",
        "colab": {
          "base_uri": "https://localhost:8080/"
        },
        "outputId": "b4aa292c-7221-43f8-9f11-645d14b62fb1"
      },
      "execution_count": null,
      "outputs": [
        {
          "output_type": "stream",
          "name": "stdout",
          "text": [
            "Epoch [1/100], Train Loss: 4.3415, Train Accuracy: 0.1353, Validation Loss: 3.5982, Validation Accuracy: 0.5176\n",
            "Epoch [2/100], Train Loss: 2.9215, Train Accuracy: 0.7931, Validation Loss: 2.7691, Validation Accuracy: 0.7049\n",
            "Epoch [3/100], Train Loss: 2.0210, Train Accuracy: 0.9000, Validation Loss: 2.1987, Validation Accuracy: 0.7608\n",
            "Epoch [4/100], Train Loss: 1.3850, Train Accuracy: 0.9569, Validation Loss: 1.8535, Validation Accuracy: 0.7941\n",
            "Epoch [5/100], Train Loss: 0.9946, Train Accuracy: 0.9618, Validation Loss: 1.6125, Validation Accuracy: 0.8078\n",
            "Epoch [6/100], Train Loss: 0.7519, Train Accuracy: 0.9804, Validation Loss: 1.4222, Validation Accuracy: 0.8088\n",
            "Epoch [7/100], Train Loss: 0.5962, Train Accuracy: 0.9794, Validation Loss: 1.3157, Validation Accuracy: 0.8176\n",
            "Epoch [8/100], Train Loss: 0.4635, Train Accuracy: 0.9951, Validation Loss: 1.2286, Validation Accuracy: 0.8255\n",
            "Epoch [9/100], Train Loss: 0.3910, Train Accuracy: 0.9951, Validation Loss: 1.1607, Validation Accuracy: 0.8304\n",
            "Epoch [10/100], Train Loss: 0.3297, Train Accuracy: 0.9980, Validation Loss: 1.1135, Validation Accuracy: 0.8265\n",
            "Epoch [11/100], Train Loss: 0.2787, Train Accuracy: 0.9941, Validation Loss: 1.0640, Validation Accuracy: 0.8333\n",
            "Epoch [12/100], Train Loss: 0.2516, Train Accuracy: 0.9971, Validation Loss: 1.0204, Validation Accuracy: 0.8353\n",
            "Epoch [13/100], Train Loss: 0.2010, Train Accuracy: 0.9980, Validation Loss: 1.0018, Validation Accuracy: 0.8314\n",
            "Epoch [14/100], Train Loss: 0.1886, Train Accuracy: 0.9990, Validation Loss: 0.9672, Validation Accuracy: 0.8382\n",
            "Epoch [15/100], Train Loss: 0.1563, Train Accuracy: 1.0000, Validation Loss: 0.9555, Validation Accuracy: 0.8314\n",
            "Epoch [16/100], Train Loss: 0.1540, Train Accuracy: 0.9990, Validation Loss: 0.9405, Validation Accuracy: 0.8314\n",
            "Epoch [17/100], Train Loss: 0.1314, Train Accuracy: 1.0000, Validation Loss: 0.9159, Validation Accuracy: 0.8353\n",
            "Epoch [18/100], Train Loss: 0.1191, Train Accuracy: 0.9990, Validation Loss: 0.8925, Validation Accuracy: 0.8392\n",
            "Epoch [19/100], Train Loss: 0.1117, Train Accuracy: 1.0000, Validation Loss: 0.8890, Validation Accuracy: 0.8392\n",
            "Epoch [20/100], Train Loss: 0.1109, Train Accuracy: 0.9980, Validation Loss: 0.8571, Validation Accuracy: 0.8402\n",
            "Epoch [21/100], Train Loss: 0.1006, Train Accuracy: 0.9971, Validation Loss: 0.8524, Validation Accuracy: 0.8382\n",
            "Epoch [22/100], Train Loss: 0.0923, Train Accuracy: 1.0000, Validation Loss: 0.8495, Validation Accuracy: 0.8363\n",
            "Epoch [23/100], Train Loss: 0.0820, Train Accuracy: 1.0000, Validation Loss: 0.8584, Validation Accuracy: 0.8324\n",
            "Epoch [24/100], Train Loss: 0.0847, Train Accuracy: 0.9990, Validation Loss: 0.8308, Validation Accuracy: 0.8343\n",
            "Epoch [25/100], Train Loss: 0.0808, Train Accuracy: 0.9971, Validation Loss: 0.8156, Validation Accuracy: 0.8382\n",
            "Early stopping at epoch 25. No improvement in validation accuracy for 5 consecutive epochs.\n"
          ]
        }
      ]
    },
    {
      "cell_type": "code",
      "source": [
        "import matplotlib.pyplot as plt\n",
        "epochs = range(1, len(train_loss_history) + 1)\n",
        "\n",
        "plt.figure(figsize=(10, 5))\n",
        "plt.subplot(2, 1, 1)\n",
        "plt.plot(epochs, train_loss_history, 'b-', label='Training Loss')\n",
        "plt.plot(epochs, val_loss_history, 'orange', label='Validation Loss')\n",
        "plt.xlabel('Epochs')\n",
        "plt.ylabel('Loss')\n",
        "plt.title('Training and Validation Loss History')\n",
        "plt.legend()\n",
        "plt.grid()\n",
        "\n",
        "\n",
        "plt.subplot(2, 1, 2)\n",
        "plt.plot(epochs, train_acc_history, 'b-', label='Training Accuracy')\n",
        "plt.plot(epochs, val_acc_history, 'orange', label='Validation Accuracy')\n",
        "plt.xlabel('Epochs')\n",
        "plt.ylabel('Accuracy')\n",
        "plt.title('Training and Validation Accuracy History')\n",
        "plt.legend()\n",
        "plt.grid()\n",
        "\n",
        "plt.tight_layout()\n",
        "plt.show()"
      ],
      "metadata": {
        "id": "ov1Jep4FENhK",
        "colab": {
          "base_uri": "https://localhost:8080/",
          "height": 507
        },
        "outputId": "b9747390-37d4-45ca-9449-b1c9d39237b2"
      },
      "execution_count": null,
      "outputs": [
        {
          "output_type": "display_data",
          "data": {
            "text/plain": [
              "<Figure size 1000x500 with 2 Axes>"
            ],
            "image/png": "[encoded data removed]"
          },
          "metadata": {}
        }
      ]
    },
    {
      "cell_type": "code",
      "source": [
        "model.load_state_dict(torch.load('Best_EfficientNetb0_FullFineTuning.pth'))\n",
        "test_acc = test_model(model, test_loader, device)\n",
        "print(f\"Test Accuracy: {test_acc:.4f}\")"
      ],
      "metadata": {
        "id": "SbCrxARFEQGy",
        "colab": {
          "base_uri": "https://localhost:8080/"
        },
        "outputId": "7a2dfaaf-6562-4560-f4d0-5e25193f2625"
      },
      "execution_count": null,
      "outputs": [
        {
          "output_type": "stream",
          "name": "stderr",
          "text": [
            "<ipython-input-14-56af308653c7>:1: FutureWarning: You are using `torch.load` with `weights_only=False` (the current default value), which uses the default pickle module implicitly. It is possible to construct malicious pickle data which will execute arbitrary code during unpickling (See https://github.com/pytorch/pytorch/blob/main/SECURITY.md#untrusted-models for more details). In a future release, the default value for `weights_only` will be flipped to `True`. This limits the functions that could be executed during unpickling. Arbitrary objects will no longer be allowed to be loaded via this mode unless they are explicitly allowlisted by the user via `torch.serialization.add_safe_globals`. We recommend you start setting `weights_only=True` for any use case where you don't have full control of the loaded file. Please open an issue on GitHub for any issues related to this experimental feature.\n",
            "  model.load_state_dict(torch.load('Best_EfficientNetb0_FullFineTuning.pth'))\n"
          ]
        },
        {
          "output_type": "stream",
          "name": "stdout",
          "text": [
            "Test Accuracy: 0.7966\n"
          ]
        }
      ]
    }
  ]
}